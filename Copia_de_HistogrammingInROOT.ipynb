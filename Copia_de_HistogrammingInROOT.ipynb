{
  "nbformat": 4,
  "nbformat_minor": 0,
  "metadata": {
    "colab": {
      "name": "Copia de HistogrammingInROOT.ipynb",
      "version": "0.3.2",
      "provenance": [],
      "collapsed_sections": [],
      "include_colab_link": true
    },
    "kernelspec": {
      "name": "python3",
      "display_name": "Python 3"
    }
  },
  "cells": [
    {
      "cell_type": "markdown",
      "metadata": {
        "id": "view-in-github",
        "colab_type": "text"
      },
      "source": [
        "<a href=\"https://colab.research.google.com/github/DanielEstrada971102/CUFICO-2018-2/blob/master/Copia_de_HistogrammingInROOT.ipynb\" target=\"_parent\"><img src=\"https://colab.research.google.com/assets/colab-badge.svg\" alt=\"Open In Colab\"/></a>"
      ]
    },
    {
      "metadata": {
        "id": "l2Kx9iqQ4ToX",
        "colab_type": "text"
      },
      "cell_type": "markdown",
      "source": [
        "# With this notebook we will:\n",
        "## 1. Install packages needed for root\n",
        "## 2. Download a binary root that compiled in google drive \"colaboratory\" environement\n",
        "## 3. Modify the PATH in order to tell python where to look for pyROOT\n",
        "## 4. Finally, test ROOT installation with a simple example\n",
        "\n",
        "##### Author: Jose Ruiz\n",
        "##### Maintainer: Jose Ruiz\n",
        "##### Developed at: Universidad de Antioquia\n"
      ]
    },
    {
      "metadata": {
        "id": "C1gPEaTg6fLl",
        "colab_type": "text"
      },
      "cell_type": "markdown",
      "source": [
        "### 1. Install packages needed for root"
      ]
    },
    {
      "metadata": {
        "id": "gYEA4UKNplb6",
        "colab_type": "code",
        "outputId": "d28dabfd-5220-4256-cb74-89d808335081",
        "colab": {
          "base_uri": "https://localhost:8080/",
          "height": 1267
        }
      },
      "cell_type": "code",
      "source": [
        "!apt-get install git dpkg-dev cmake g++ gcc binutils libx11-dev libxpm-dev libxft-dev libxext-dev tar gfortran subversion"
      ],
      "execution_count": 0,
      "outputs": [
        {
          "output_type": "stream",
          "text": [
            "Reading package lists... Done\n",
            "Building dependency tree       \n",
            "Reading state information... Done\n",
            "cmake is already the newest version (3.10.2-1ubuntu2).\n",
            "libxext-dev is already the newest version (2:1.3.3-1).\n",
            "libxext-dev set to manually installed.\n",
            "libxft-dev is already the newest version (2.3.2-1).\n",
            "binutils is already the newest version (2.30-21ubuntu1~18.04).\n",
            "binutils set to manually installed.\n",
            "dpkg-dev is already the newest version (1.19.0.5ubuntu2.1).\n",
            "dpkg-dev set to manually installed.\n",
            "g++ is already the newest version (4:7.3.0-3ubuntu2.1).\n",
            "g++ set to manually installed.\n",
            "gcc is already the newest version (4:7.3.0-3ubuntu2.1).\n",
            "gcc set to manually installed.\n",
            "gfortran is already the newest version (4:7.3.0-3ubuntu2.1).\n",
            "git is already the newest version (1:2.17.1-1ubuntu0.4).\n",
            "libx11-dev is already the newest version (2:1.6.4-3ubuntu0.1).\n",
            "libx11-dev set to manually installed.\n",
            "The following additional packages will be installed:\n",
            "  libapr1 libaprutil1 libserf-1-1 libsvn1\n",
            "Suggested packages:\n",
            "  db5.3-util libapache2-mod-svn subversion-tools ncompress tar-scripts tar-doc\n",
            "The following NEW packages will be installed:\n",
            "  libapr1 libaprutil1 libserf-1-1 libsvn1 libxpm-dev subversion\n",
            "The following packages will be upgraded:\n",
            "  tar\n",
            "1 upgraded, 6 newly installed, 0 to remove and 7 not upgraded.\n",
            "Need to get 2,558 kB of archives.\n",
            "After this operation, 10.1 MB of additional disk space will be used.\n",
            "Get:1 http://archive.ubuntu.com/ubuntu bionic-updates/main amd64 tar amd64 1.29b-2ubuntu0.1 [234 kB]\n",
            "Get:2 http://archive.ubuntu.com/ubuntu bionic/main amd64 libapr1 amd64 1.6.3-2 [90.9 kB]\n",
            "Get:3 http://archive.ubuntu.com/ubuntu bionic/main amd64 libaprutil1 amd64 1.6.1-2 [84.4 kB]\n",
            "Get:4 http://archive.ubuntu.com/ubuntu bionic/universe amd64 libserf-1-1 amd64 1.3.9-6 [44.4 kB]\n",
            "Get:5 http://archive.ubuntu.com/ubuntu bionic/universe amd64 libsvn1 amd64 1.9.7-4ubuntu1 [1,183 kB]\n",
            "Get:6 http://archive.ubuntu.com/ubuntu bionic/main amd64 libxpm-dev amd64 1:3.5.12-1 [87.4 kB]\n",
            "Get:7 http://archive.ubuntu.com/ubuntu bionic/universe amd64 subversion amd64 1.9.7-4ubuntu1 [834 kB]\n",
            "Fetched 2,558 kB in 2s (1,540 kB/s)\n",
            "(Reading database ... 131284 files and directories currently installed.)\n",
            "Preparing to unpack .../tar_1.29b-2ubuntu0.1_amd64.deb ...\n",
            "Unpacking tar (1.29b-2ubuntu0.1) over (1.29b-2) ...\n",
            "Setting up tar (1.29b-2ubuntu0.1) ...\n",
            "update-alternatives: warning: forcing reinstallation of alternative /usr/sbin/rmt-tar because link group rmt is broken\n",
            "Selecting previously unselected package libapr1:amd64.\n",
            "(Reading database ... 131284 files and directories currently installed.)\n",
            "Preparing to unpack .../0-libapr1_1.6.3-2_amd64.deb ...\n",
            "Unpacking libapr1:amd64 (1.6.3-2) ...\n",
            "Selecting previously unselected package libaprutil1:amd64.\n",
            "Preparing to unpack .../1-libaprutil1_1.6.1-2_amd64.deb ...\n",
            "Unpacking libaprutil1:amd64 (1.6.1-2) ...\n",
            "Selecting previously unselected package libserf-1-1:amd64.\n",
            "Preparing to unpack .../2-libserf-1-1_1.3.9-6_amd64.deb ...\n",
            "Unpacking libserf-1-1:amd64 (1.3.9-6) ...\n",
            "Selecting previously unselected package libsvn1:amd64.\n",
            "Preparing to unpack .../3-libsvn1_1.9.7-4ubuntu1_amd64.deb ...\n",
            "Unpacking libsvn1:amd64 (1.9.7-4ubuntu1) ...\n",
            "Selecting previously unselected package libxpm-dev:amd64.\n",
            "Preparing to unpack .../4-libxpm-dev_1%3a3.5.12-1_amd64.deb ...\n",
            "Unpacking libxpm-dev:amd64 (1:3.5.12-1) ...\n",
            "Selecting previously unselected package subversion.\n",
            "Preparing to unpack .../5-subversion_1.9.7-4ubuntu1_amd64.deb ...\n",
            "Unpacking subversion (1.9.7-4ubuntu1) ...\n",
            "Setting up libapr1:amd64 (1.6.3-2) ...\n",
            "Processing triggers for mime-support (3.60ubuntu1) ...\n",
            "Setting up libxpm-dev:amd64 (1:3.5.12-1) ...\n",
            "Processing triggers for libc-bin (2.27-3ubuntu1) ...\n",
            "Setting up libaprutil1:amd64 (1.6.1-2) ...\n",
            "Processing triggers for man-db (2.8.3-2ubuntu0.1) ...\n",
            "Setting up libserf-1-1:amd64 (1.3.9-6) ...\n",
            "Setting up libsvn1:amd64 (1.9.7-4ubuntu1) ...\n",
            "Setting up subversion (1.9.7-4ubuntu1) ...\n",
            "Processing triggers for libc-bin (2.27-3ubuntu1) ...\n"
          ],
          "name": "stdout"
        }
      ]
    },
    {
      "metadata": {
        "id": "3i5bTy4x601V",
        "colab_type": "text"
      },
      "cell_type": "markdown",
      "source": [
        "### 2. Mount the drive to get the root binary and untar it "
      ]
    },
    {
      "metadata": {
        "id": "gMhjqJ9noRcX",
        "colab_type": "code",
        "colab": {}
      },
      "cell_type": "code",
      "source": [
        "# Load the Drive helper and mount\n",
        "from google.colab import drive\n",
        "\n",
        "# This will prompt for authorization.\n",
        "drive.mount('/content/drive', force_remount=True)"
      ],
      "execution_count": 0,
      "outputs": []
    },
    {
      "metadata": {
        "id": "dt2PEUjQo0RY",
        "colab_type": "code",
        "colab": {}
      },
      "cell_type": "code",
      "source": [
        "# After executing the cell above, Drive\n",
        "# files will be present in \"/content/drive/My Drive\".\n",
        "!ls \"/content/drive/Team Drives/PyROOT_in_Google/\""
      ],
      "execution_count": 0,
      "outputs": []
    },
    {
      "metadata": {
        "id": "tRQGlQ4Hqau9",
        "colab_type": "code",
        "colab": {}
      },
      "cell_type": "code",
      "source": [
        "!tar -xf /content/drive/Team\\ Drives/PyROOT_in_Google/root_build_google_yikes.tar"
      ],
      "execution_count": 0,
      "outputs": []
    },
    {
      "metadata": {
        "id": "1nHFk9y68VVP",
        "colab_type": "text"
      },
      "cell_type": "markdown",
      "source": [
        "\n",
        "### 3. Modify the PATH in order to tell python where to look for pyROOT\n"
      ]
    },
    {
      "metadata": {
        "id": "N3ndoY6iu6_J",
        "colab_type": "code",
        "colab": {}
      },
      "cell_type": "code",
      "source": [
        "import sys\n",
        "sys.path.append(\"/content/root_build/\")\n",
        "sys.path.append(\"/content/root_build/bin/\")\n",
        "sys.path.append(\"/content/root_build/include/\")\n",
        "sys.path.append(\"/content/root_build/lib/\")"
      ],
      "execution_count": 0,
      "outputs": []
    },
    {
      "metadata": {
        "id": "lTFxGdo6v-vn",
        "colab_type": "code",
        "colab": {}
      },
      "cell_type": "code",
      "source": [
        "from ROOT import TCanvas, TH1F, TF1, TGraph\n",
        "import numpy as np\n",
        "from glob import glob\n",
        "from time import sleep"
      ],
      "execution_count": 0,
      "outputs": []
    },
    {
      "metadata": {
        "id": "SjzEDEA5-yYB",
        "colab_type": "code",
        "colab": {}
      },
      "cell_type": "code",
      "source": [
        "# Se cargan los datos como una matriz de 12*20 \n",
        "filenames = sorted(glob('drive/My Drive/Datos_TComputo/Tiempo_Computo_*.txt'))\n",
        "\n",
        "Datos = []\n",
        "\n",
        "for i in filenames:\n",
        "  Datos.append(np.loadtxt(fname = i, delimiter = ','))\n",
        "Datos = np.array(Datos)"
      ],
      "execution_count": 0,
      "outputs": []
    },
    {
      "metadata": {
        "id": "q03qqKe4--NP",
        "colab_type": "code",
        "colab": {}
      },
      "cell_type": "code",
      "source": [
        "# Se encuentra el maximo tiempo de computo para cada n\n",
        "\n",
        "T_max = []\n",
        "for i in range(0, 12):\n",
        "  T_max.append(max(Datos[i]))\n",
        "T_max = np.array(T_max)"
      ],
      "execution_count": 0,
      "outputs": []
    },
    {
      "metadata": {
        "id": "iaeWgwnHDtuC",
        "colab_type": "code",
        "colab": {}
      },
      "cell_type": "code",
      "source": [
        "# Se hacen 12 histogramas con los datos cargados de tiempos de computo\n",
        "mean_gauss = []\n",
        "for i in range(0, 12):\n",
        "  c = TCanvas('c', 'canvas', 600, 700)\n",
        "  gaus = TF1('f', 'gaus', min(Datos[i]),max(Datos[i])) # esta funcion se usara para hacer un ajuste gaussiano\n",
        "  histograma = TH1F('histograma', 'Tiempo De computo para n = %d'%(i*5), 20, min(Datos[i]),max(Datos[i]))\n",
        "  \n",
        "  for j in range(0,20):\n",
        "    histograma.Fill(Datos[i][j]) # se agregan los datos de tiempo de computo al histograma\n",
        "  \n",
        "  histograma.SetLineColor(2) \n",
        "  histograma.Draw()\n",
        "  \n",
        "  histograma.Fit('f') # se hace un fit del histograma con 'f' que corresponde a la funcion gaussiana\n",
        "  histograma.SetLineColor(3)\n",
        "  histograma.Draw('C')\n",
        "  \n",
        "  mean_gauss.append(gaus.GetParameter(1)) # se almacena el dato de fiteo que corresponde a la media de la distribucion\n",
        "  # gaussiana(representa el valor medio de estabilizacion del sistema), este se usara luego para graficas estos valores para cada n.\n",
        "  \n",
        "  c.SetGrid()\n",
        "  c.Update()\n",
        "  c.SaveAs(\"drive/My Drive/Imag_Parcial/Hist_gauss%d.png\"%(i))\n",
        "  \n",
        "mean_gauss = np.array(mean_gauss)"
      ],
      "execution_count": 0,
      "outputs": []
    },
    {
      "metadata": {
        "id": "QKNTw1Bp7kQ4",
        "colab_type": "code",
        "colab": {}
      },
      "cell_type": "code",
      "source": [
        "# Se define una funcion que apartir de dos arreglos de datos hace una grafica y un fit de estos y los guarda como archivo png, esta se usa para fitear \n",
        "# los tiempos maximos de computo y los valores medios de las guassianas.\n",
        "def Graph_and_Fit_arreglo(size, x, y, title, xAxis, yAxis, fit, nameImage):\n",
        "  c = TCanvas('c', 'title', 700, 600)\n",
        "\n",
        "  #x = np.array([5,10,15,20,25,30,35,40,45,50,55,60])\n",
        "  g = TGraph(size)\n",
        "  g.SetTitle(title)\n",
        "\n",
        "  for i in range(0,size):\n",
        "    g.SetPoint(i, x[i], y[i])\n",
        "\n",
        "  func = TF1('e', fit, min(x), max(x)) \n",
        "  g.Fit('e')\n",
        "\n",
        "  g.SetMarkerStyle(9)\n",
        "  c.SetGrid()\n",
        "  ejex = g.GetXaxis()\n",
        "  ejex.SetTitle(xAxis)\n",
        "  ejey = g.GetYaxis()\n",
        "  ejey.SetTitle(yAxis)\n",
        "  g.Draw('AP')\n",
        "  c.SaveAs('drive/My Drive/Imag_Parcial/' + nameImage + '.png')\n",
        "  "
      ],
      "execution_count": 0,
      "outputs": []
    },
    {
      "metadata": {
        "id": "FZftwmX6_zFK",
        "colab_type": "code",
        "colab": {
          "base_uri": "https://localhost:8080/",
          "height": 202
        },
        "outputId": "4049353e-6859-40fd-8a54-ff1a871bcd30"
      },
      "cell_type": "code",
      "source": [
        "# Se hace un fit para los datos de tiempos maximos de computo\n",
        "x = np.array([5,10,15,20,25,30,35,40,45,50,55,60])\n",
        "Graph_and_Fit_arreglo(12, x, T_max, 'Tiempos maximos de computo vs n', 'n', 'Tiempo maximo de computo', '[0] + [1]*exp([2]*x)', 'fit_Tiempos_maximos')"
      ],
      "execution_count": 90,
      "outputs": [
        {
          "output_type": "stream",
          "text": [
            "\n",
            "****************************************\n",
            "Minimizer is Minuit / Migrad\n",
            "Chi2                      =      0.13776\n",
            "NDf                       =            9\n",
            "Edm                       =  1.66116e-06\n",
            "NCalls                    =          464\n",
            "p0                        =    0.0234284   +/-   0.0642968   \n",
            "p1                        =    0.0012266   +/-   0.00315579  \n",
            "p2                        =     0.110222   +/-   0.0432127   \n"
          ],
          "name": "stdout"
        },
        {
          "output_type": "stream",
          "text": [
            "Info in <TCanvas::Print>: png file drive/My Drive/Imag_Parcial/fit_Tiempos_maximos.png has been created\n"
          ],
          "name": "stderr"
        }
      ]
    },
    {
      "metadata": {
        "id": "odzkNqNL7lTe",
        "colab_type": "text"
      },
      "cell_type": "markdown",
      "source": [
        "La función que ajusta los datos de máximo tiempo de computo es :\n",
        "$ T_{max}(n)\\approx 0.023 + 0.0012 e^{0.11n}$"
      ]
    },
    {
      "metadata": {
        "id": "hkBcIZroATsF",
        "colab_type": "code",
        "colab": {
          "base_uri": "https://localhost:8080/",
          "height": 202
        },
        "outputId": "9d4e6fb6-e180-4940-ff33-6ff2bc925876"
      },
      "cell_type": "code",
      "source": [
        "# Se hace un fit para los datos de valor medio de estabilizacion del sistema  \n",
        "Graph_and_Fit_arreglo(12, x, mean_gauss, 'Valor medio de estabilizacion vs n', 'n', 'valor medio de estabilizacion', '[0] + [1]*x + [2]* x**2', 'fit_valMed_estabilizacion')"
      ],
      "execution_count": 92,
      "outputs": [
        {
          "output_type": "stream",
          "text": [
            "\n",
            "****************************************\n",
            "Minimizer is Minuit / Migrad\n",
            "Chi2                      =      13.2657\n",
            "NDf                       =            9\n",
            "Edm                       =  2.86334e-21\n",
            "NCalls                    =           67\n",
            "p0                        =     -1.32704   +/-   1.25478     \n",
            "p1                        =     0.158932   +/-   0.0887573   \n",
            "p2                        =  -0.00337299   +/-   0.00132928  \n"
          ],
          "name": "stdout"
        },
        {
          "output_type": "stream",
          "text": [
            "Info in <TCanvas::Print>: png file drive/My Drive/Imag_Parcial/fit_valMed_estabilizacion.png has been created\n"
          ],
          "name": "stderr"
        }
      ]
    },
    {
      "metadata": {
        "id": "5_I40hhCFcT9",
        "colab_type": "code",
        "colab": {}
      },
      "cell_type": "code",
      "source": [
        ""
      ],
      "execution_count": 0,
      "outputs": []
    }
  ]
}