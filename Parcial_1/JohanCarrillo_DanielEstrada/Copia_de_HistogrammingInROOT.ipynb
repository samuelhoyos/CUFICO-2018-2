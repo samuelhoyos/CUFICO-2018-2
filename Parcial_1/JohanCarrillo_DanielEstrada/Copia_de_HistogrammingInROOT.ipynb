{
  "nbformat": 4,
  "nbformat_minor": 0,
  "metadata": {
    "colab": {
      "name": "Copia de HistogrammingInROOT.ipynb",
      "version": "0.3.2",
      "provenance": [],
      "collapsed_sections": [],
      "include_colab_link": true
    },
    "kernelspec": {
      "name": "python3",
      "display_name": "Python 3"
    }
  },
  "cells": [
    {
      "cell_type": "markdown",
      "metadata": {
        "id": "view-in-github",
        "colab_type": "text"
      },
      "source": [
        "<a href=\"https://colab.research.google.com/github/DanielEstrada971102/CUFICO-2018-2/blob/master/Parcial_1/JohanCarrillo_DanielEstrada/Copia_de_HistogrammingInROOT.ipynb\" target=\"_parent\"><img src=\"https://colab.research.google.com/assets/colab-badge.svg\" alt=\"Open In Colab\"/></a>"
      ]
    },
    {
      "metadata": {
        "id": "l2Kx9iqQ4ToX",
        "colab_type": "text"
      },
      "cell_type": "markdown",
      "source": [
        "## 20/02/2019\n",
        "## En este notebook se desarrollan los puntos 4, 5, 6 y 7 del examen parcial.\n",
        "## Primero se carga la máquina virtual y luego se procede a desarrollar los puntos.\n",
        "\n",
        "##### Autores: Daniel Estrada Acevedo y Johan Alexis Carrillo Toro\n",
        "##### Universidad de Antioquia\n"
      ]
    },
    {
      "metadata": {
        "id": "C1gPEaTg6fLl",
        "colab_type": "text"
      },
      "cell_type": "markdown",
      "source": [
        "### 1. Se instalan los paquetes que root necesita"
      ]
    },
    {
      "metadata": {
        "id": "gYEA4UKNplb6",
        "colab_type": "code",
        "outputId": "b680bede-4ead-46c0-cfa9-8edb81dc500e",
        "colab": {
          "base_uri": "https://localhost:8080/",
          "height": 302
        }
      },
      "cell_type": "code",
      "source": [
        "!apt-get install git dpkg-dev cmake g++ gcc binutils libx11-dev libxpm-dev libxft-dev libxext-dev tar gfortran subversion"
      ],
      "execution_count": 0,
      "outputs": [
        {
          "output_type": "stream",
          "text": [
            "Reading package lists... Done\n",
            "Building dependency tree       \n",
            "Reading state information... Done\n",
            "cmake is already the newest version (3.10.2-1ubuntu2).\n",
            "libxext-dev is already the newest version (2:1.3.3-1).\n",
            "libxft-dev is already the newest version (2.3.2-1).\n",
            "libxpm-dev is already the newest version (1:3.5.12-1).\n",
            "subversion is already the newest version (1.9.7-4ubuntu1).\n",
            "binutils is already the newest version (2.30-21ubuntu1~18.04).\n",
            "dpkg-dev is already the newest version (1.19.0.5ubuntu2.1).\n",
            "g++ is already the newest version (4:7.3.0-3ubuntu2.1).\n",
            "gcc is already the newest version (4:7.3.0-3ubuntu2.1).\n",
            "gfortran is already the newest version (4:7.3.0-3ubuntu2.1).\n",
            "git is already the newest version (1:2.17.1-1ubuntu0.4).\n",
            "libx11-dev is already the newest version (2:1.6.4-3ubuntu0.1).\n",
            "tar is already the newest version (1.29b-2ubuntu0.1).\n",
            "0 upgraded, 0 newly installed, 0 to remove and 7 not upgraded.\n"
          ],
          "name": "stdout"
        }
      ]
    },
    {
      "metadata": {
        "id": "3i5bTy4x601V",
        "colab_type": "text"
      },
      "cell_type": "markdown",
      "source": [
        "### 2. Se monta el drive y se descomprime root"
      ]
    },
    {
      "metadata": {
        "id": "gMhjqJ9noRcX",
        "colab_type": "code",
        "outputId": "1912fdf4-73f9-4ca7-dc17-d64651cb9c6e",
        "colab": {
          "base_uri": "https://localhost:8080/",
          "height": 34
        }
      },
      "cell_type": "code",
      "source": [
        "# Load the Drive helper and mount\n",
        "from google.colab import drive\n",
        "\n",
        "# This will prompt for authorization.\n",
        "drive.mount('/content/drive', force_remount=True)"
      ],
      "execution_count": 0,
      "outputs": [
        {
          "output_type": "stream",
          "text": [
            "Mounted at /content/drive\n"
          ],
          "name": "stdout"
        }
      ]
    },
    {
      "metadata": {
        "id": "dt2PEUjQo0RY",
        "colab_type": "code",
        "outputId": "8e695dfa-0b44-45e2-daa3-a28f22acef59",
        "colab": {
          "base_uri": "https://localhost:8080/",
          "height": 50
        }
      },
      "cell_type": "code",
      "source": [
        "# After executing the cell above, Drive\n",
        "# files will be present in \"/content/drive/My Drive\".\n",
        "!ls \"/content/drive/Team Drives/PyROOT_in_Google/\""
      ],
      "execution_count": 0,
      "outputs": [
        {
          "output_type": "stream",
          "text": [
            "BasicAnalysis.ipynb\t  HistogrammingInROOT.ipynb    TrimmedTree.root\n",
            "BasicPyROOTExample.ipynb  root_build_google_yikes.tar\n"
          ],
          "name": "stdout"
        }
      ]
    },
    {
      "metadata": {
        "id": "tRQGlQ4Hqau9",
        "colab_type": "code",
        "colab": {}
      },
      "cell_type": "code",
      "source": [
        "!tar -xf /content/drive/Team\\ Drives/PyROOT_in_Google/root_build_google_yikes.tar"
      ],
      "execution_count": 0,
      "outputs": []
    },
    {
      "metadata": {
        "id": "1nHFk9y68VVP",
        "colab_type": "text"
      },
      "cell_type": "markdown",
      "source": [
        "\n",
        "### 3. Se modifica la direccion para que el sistema sepa dónde buscar pyroot\n"
      ]
    },
    {
      "metadata": {
        "id": "N3ndoY6iu6_J",
        "colab_type": "code",
        "colab": {}
      },
      "cell_type": "code",
      "source": [
        "import sys\n",
        "sys.path.append(\"/content/root_build/\")\n",
        "sys.path.append(\"/content/root_build/bin/\")\n",
        "sys.path.append(\"/content/root_build/include/\")\n",
        "sys.path.append(\"/content/root_build/lib/\")"
      ],
      "execution_count": 0,
      "outputs": []
    },
    {
      "metadata": {
        "id": "lTFxGdo6v-vn",
        "colab_type": "code",
        "colab": {}
      },
      "cell_type": "code",
      "source": [
        "from ROOT import TCanvas, TH1F, TF1, TGraph\n",
        "import numpy as np\n",
        "from glob import glob\n",
        "from time import sleep"
      ],
      "execution_count": 0,
      "outputs": []
    },
    {
      "metadata": {
        "id": "SjzEDEA5-yYB",
        "colab_type": "code",
        "colab": {}
      },
      "cell_type": "code",
      "source": [
        "# Se cargan los datos como una matriz de 12*20 \n",
        "filenames = sorted(glob('drive/My Drive/Datos_TComputo/Tiempo_Computo_*.txt'))  # Contiene los nombrs de los archivos que se van a subir\n",
        "\n",
        "Datos = []  # Esta matriz va a contener los 12 archivos que se van a subir como arreglos\n",
        "\n",
        "for i in filenames:\n",
        "  Datos.append(np.loadtxt(fname = i, delimiter = ','))\n",
        "Datos = np.array(Datos)"
      ],
      "execution_count": 0,
      "outputs": []
    },
    {
      "metadata": {
        "id": "q03qqKe4--NP",
        "colab_type": "code",
        "colab": {}
      },
      "cell_type": "code",
      "source": [
        "# Se encuentra el maximo tiempo de estabilizacion para cada n\n",
        "\n",
        "T_max = []  # Contendrá los valores máximos de tiempo de estabilización\n",
        "for i in range(0, 12):\n",
        "  T_max.append(max(Datos[i]))\n",
        "T_max = np.array(T_max)"
      ],
      "execution_count": 0,
      "outputs": []
    },
    {
      "metadata": {
        "id": "Nk14R-Z6Vd-x",
        "colab_type": "code",
        "outputId": "472aab2b-f71e-41fd-8a2b-6bcb0422ba82",
        "colab": {
          "base_uri": "https://localhost:8080/",
          "height": 34
        }
      },
      "cell_type": "code",
      "source": [
        "# Se crea un directorio para guardar las imagenes generadas\n",
        "!mkdir drive/'My Drive'/Imag_Parcial"
      ],
      "execution_count": 53,
      "outputs": [
        {
          "output_type": "stream",
          "text": [
            "mkdir: cannot create directory ‘drive/My Drive/Imag_Parcial’: File exists\n"
          ],
          "name": "stdout"
        }
      ]
    },
    {
      "metadata": {
        "id": "iaeWgwnHDtuC",
        "colab_type": "code",
        "outputId": "658709b8-5ba8-408f-ebed-ee0679a78322",
        "colab": {
          "base_uri": "https://localhost:8080/",
          "height": 2033
        }
      },
      "cell_type": "code",
      "source": [
        "# Se hacen 12 histogramas con los datos cargados de tiempos de computo\n",
        "\n",
        "# Va a contener el parámetro 1 que definen las gaussianas que ajustarán los datos para cada n, este corresponde a la media de la distribucion\n",
        "mean_gauss = []  \n",
        "\n",
        "for i in range(0, 12):\n",
        "  # Para cada n se genera un canvas, un ajuste gausiano y un histograma\n",
        "  c = TCanvas('c', 'canvas', 600, 700)\n",
        "  gaus = TF1('f', 'gaus', min(Datos[i]),max(Datos[i])) # esta funcion se usara para hacer un ajuste gaussiano\n",
        "  histograma = TH1F('histograma', 'Tiempo De computo para n = %d'%(i*5), 20, min(Datos[i]),max(Datos[i]))\n",
        "  \n",
        "  for j in range(0,20):\n",
        "    histograma.Fill(Datos[i][j]) # se agregan los datos de tiempo de computo al histograma\n",
        "  \n",
        "  histograma.SetLineColor(2) \n",
        "  histograma.Draw()\n",
        "  \n",
        "  histograma.Fit('f') # se hace un fit del histograma con 'f' que corresponde a la funcion gaussiana\n",
        "  histograma.SetLineColor(4)\n",
        "  histograma.Draw('C')\n",
        "  \n",
        "  # Se almacenan los valores centrales de cada gaussiana\n",
        "  mean_gauss.append(gaus.GetParameter(1)) \n",
        "  \n",
        "  c.SetGrid()\n",
        "  c.Update()\n",
        "  c.SaveAs(\"drive/My Drive/Imag_Parcial/Hist_gauss%d.png\"%(i))  # Se guardan lso archivos generados"
      ],
      "execution_count": 54,
      "outputs": [
        {
          "output_type": "stream",
          "text": [
            " FCN=4.54861 FROM MIGRAD    STATUS=CONVERGED     225 CALLS         226 TOTAL\n",
            "                     EDM=1.5673e-07    STRATEGY= 1      ERROR MATRIX ACCURATE \n",
            "  EXT PARAMETER                                   STEP         FIRST   \n",
            "  NO.   NAME      VALUE            ERROR          SIZE      DERIVATIVE \n",
            "   1  Constant     1.49211e+00   1.07438e+00   4.51939e-04  -8.87448e-04\n",
            "   2  Mean         2.73737e-02   1.64047e-01   6.80262e-05   3.31824e-03\n",
            "   3  Sigma        5.66544e-02   2.86560e-02   1.42598e-02  -2.20088e-05\n",
            " FCN=2.76104 FROM MIGRAD    STATUS=CONVERGED     503 CALLS         504 TOTAL\n",
            "                     EDM=8.41575e-06    STRATEGY= 1      ERROR MATRIX ACCURATE \n",
            "  EXT PARAMETER                                   STEP         FIRST   \n",
            "  NO.   NAME      VALUE            ERROR          SIZE      DERIVATIVE \n",
            "   1  Constant     9.47814e+00   8.50707e+01   2.23016e-03  -2.60180e-04\n",
            "   2  Mean        -3.08585e-01   7.79205e-01   2.03988e-05  -2.32347e-02\n",
            "   3  Sigma        1.70362e-01   1.64700e-01   8.59673e-03  -5.82268e-05\n",
            " FCN=4.75451 FROM MIGRAD    STATUS=CONVERGED     668 CALLS         669 TOTAL\n",
            "                     EDM=4.79657e-07    STRATEGY= 1      ERROR MATRIX ACCURATE \n",
            "  EXT PARAMETER                                   STEP         FIRST   \n",
            "  NO.   NAME      VALUE            ERROR          SIZE      DERIVATIVE \n",
            "   1  Constant     2.57293e+01   5.25485e+02   7.96851e-03  -1.01565e-04\n",
            "   2  Mean        -9.06949e-01   3.96731e+00   6.03139e-05  -1.35759e-02\n",
            "   3  Sigma        4.35028e-01   4.28770e-01   7.44488e-03  -3.97396e-05\n",
            " FCN=2.17094 FROM MIGRAD    STATUS=CONVERGED     832 CALLS         833 TOTAL\n",
            "                     EDM=1.15599e-06    STRATEGY= 1      ERROR MATRIX ACCURATE \n",
            "  EXT PARAMETER                                   STEP         FIRST   \n",
            "  NO.   NAME      VALUE            ERROR          SIZE      DERIVATIVE \n",
            "   1  Constant     2.84007e+01   2.73658e+02   6.01203e-03  -1.01142e-04\n",
            "   2  Mean        -1.73358e+00   3.16248e+00   6.94551e-05  -9.07391e-03\n",
            "   3  Sigma        7.87397e-01   6.40819e-01   4.01750e-03  -1.96779e-04\n",
            " FCN=19 FROM HESSE     STATUS=FAILED         11 CALLS          69 TOTAL\n",
            "                     EDM=0    STRATEGY= 1  ERROR MATRIX UNCERTAINTY 100.0 per cent\n",
            "  EXT PARAMETER                APPROXIMATE        STEP         FIRST   \n",
            "  NO.   NAME      VALUE            ERROR          SIZE      DERIVATIVE \n",
            "   1  Constant    -1.24222e+02   1.73643e+00  -2.22489e+00   0.00000e+00\n",
            "   2  Mean        -2.24186e+00   1.41421e+00  -2.36898e+00   0.00000e+00\n",
            "   3  Sigma        1.90109e-02   5.20365e-01  -3.39530e-01   0.00000e+00\n",
            " FCN=5.18118 FROM MIGRAD    STATUS=CALL LIMIT   1347 CALLS        1348 TOTAL\n",
            "                     EDM=0.000163282    STRATEGY= 1  ERROR MATRIX UNCERTAINTY  34.9 per cent\n",
            "  EXT PARAMETER                APPROXIMATE        STEP         FIRST   \n",
            "  NO.   NAME      VALUE            ERROR          SIZE      DERIVATIVE \n",
            "   1  Constant     3.31764e+05   7.53637e+05  -7.16040e+03  -3.06861e-07\n",
            "   2  Mean        -4.87444e+00   9.11936e+00  -7.06804e-03  -4.17033e-01\n",
            "   3  Sigma        1.06045e+00   1.51945e+00   2.54778e-03  -2.02607e+00\n",
            " FCN=2.73145 FROM MIGRAD    STATUS=CONVERGED     202 CALLS         203 TOTAL\n",
            "                     EDM=1.76556e-08    STRATEGY= 1      ERROR MATRIX ACCURATE \n",
            "  EXT PARAMETER                                   STEP         FIRST   \n",
            "  NO.   NAME      VALUE            ERROR          SIZE      DERIVATIVE \n",
            "   1  Constant     2.92531e+00   1.49609e+01   6.81721e-04   5.56633e-05\n",
            "   2  Mean         1.21572e+00   7.08961e+00   1.55535e-04  -2.31511e-04\n",
            "   3  Sigma        7.63824e-01   9.61144e-01   1.94556e-04   1.34343e-04\n",
            " FCN=1.6021 FROM MIGRAD    STATUS=CONVERGED      78 CALLS          79 TOTAL\n",
            "                     EDM=9.09886e-08    STRATEGY= 1      ERROR MATRIX ACCURATE \n",
            "  EXT PARAMETER                                   STEP         FIRST   \n",
            "  NO.   NAME      VALUE            ERROR          SIZE      DERIVATIVE \n",
            "   1  Constant     2.05311e+00   7.69114e-01   3.87937e-04   6.58282e-04\n",
            "   2  Mean         4.67741e-01   1.46090e-01   1.01183e-04   2.59898e-03\n",
            "   3  Sigma        3.69067e-01   2.37216e-01   1.25520e-04   2.08835e-03\n",
            " FCN=3.01524 FROM MIGRAD    STATUS=CONVERGED     112 CALLS         113 TOTAL\n",
            "                     EDM=7.8375e-09    STRATEGY= 1      ERROR MATRIX ACCURATE \n",
            "  EXT PARAMETER                                   STEP         FIRST   \n",
            "  NO.   NAME      VALUE            ERROR          SIZE      DERIVATIVE \n",
            "   1  Constant     1.47004e+00   4.66216e-01   3.59677e-04   2.53609e-04\n",
            "   2  Mean         4.56924e-03   1.15293e-03   7.76782e-07  -1.39577e-01\n",
            "   3  Sigma        1.34842e-03   1.67809e-03   5.03084e-04   2.25199e-04\n",
            " FCN=3.09938 FROM MIGRAD    STATUS=CONVERGED     228 CALLS         229 TOTAL\n",
            "                     EDM=1.56538e-07    STRATEGY= 1      ERROR MATRIX ACCURATE \n",
            "  EXT PARAMETER                                   STEP         FIRST   \n",
            "  NO.   NAME      VALUE            ERROR          SIZE      DERIVATIVE \n",
            "   1  Constant     1.84065e+00   6.85798e+00   4.52072e-04  -9.53144e-04\n",
            "   2  Mean        -2.17031e+00   3.19354e+01   1.17802e-03  -3.23021e-04\n",
            "   3  Sigma        3.81743e+00   2.54289e+00   8.55269e-04  -3.66405e-04\n",
            " FCN=2.53916 FROM MIGRAD    STATUS=CONVERGED     155 CALLS         156 TOTAL\n",
            "                     EDM=3.14208e-07    STRATEGY= 1      ERROR MATRIX ACCURATE \n",
            "  EXT PARAMETER                                   STEP         FIRST   \n",
            "  NO.   NAME      VALUE            ERROR          SIZE      DERIVATIVE \n",
            "   1  Constant     1.58458e+00   1.01866e+00   3.57706e-04  -4.12661e-04\n",
            "   2  Mean         2.21558e-01   3.19295e+00   4.50759e-04  -3.64403e-04\n",
            "   3  Sigma        1.26695e+00   2.54078e+00   2.92682e-04  -1.03434e-03\n",
            " FCN=2.81955 FROM MIGRAD    STATUS=CONVERGED      89 CALLS          90 TOTAL\n",
            "                     EDM=3.42079e-07    STRATEGY= 1      ERROR MATRIX ACCURATE \n",
            "  EXT PARAMETER                                   STEP         FIRST   \n",
            "  NO.   NAME      VALUE            ERROR          SIZE      DERIVATIVE \n",
            "   1  Constant     1.64887e+00   5.56241e-01   3.88927e-04  -3.47951e-04\n",
            "   2  Mean         1.67782e+00   1.19268e+00   9.54806e-04  -5.20987e-04\n",
            "   3  Sigma        1.75572e+00   1.82965e+00   3.99687e-04  -1.90548e-03\n"
          ],
          "name": "stdout"
        },
        {
          "output_type": "stream",
          "text": [
            "Warning in <TROOT::Append>: Replacing existing TH1: histograma (Potential memory leak).\n",
            "Info in <TCanvas::Print>: png file drive/My Drive/Imag_Parcial/Hist_gauss0.png has been created\n",
            "Warning in <TCanvas::Constructor>: Deleting canvas with same name: c\n",
            "Warning in <TROOT::Append>: Replacing existing TH1: histograma (Potential memory leak).\n",
            "Info in <TCanvas::Print>: png file drive/My Drive/Imag_Parcial/Hist_gauss1.png has been created\n",
            "Warning in <TCanvas::Constructor>: Deleting canvas with same name: c\n",
            "Warning in <TROOT::Append>: Replacing existing TH1: histograma (Potential memory leak).\n",
            "Info in <TCanvas::Print>: png file drive/My Drive/Imag_Parcial/Hist_gauss2.png has been created\n",
            "Warning in <TCanvas::Constructor>: Deleting canvas with same name: c\n",
            "Warning in <TROOT::Append>: Replacing existing TH1: histograma (Potential memory leak).\n",
            "Info in <TCanvas::Print>: png file drive/My Drive/Imag_Parcial/Hist_gauss3.png has been created\n",
            "Warning in <TCanvas::Constructor>: Deleting canvas with same name: c\n",
            "Warning in <TROOT::Append>: Replacing existing TH1: histograma (Potential memory leak).\n",
            "Info in <TCanvas::Print>: png file drive/My Drive/Imag_Parcial/Hist_gauss4.png has been created\n",
            "Warning in <TCanvas::Constructor>: Deleting canvas with same name: c\n",
            "Warning in <TROOT::Append>: Replacing existing TH1: histograma (Potential memory leak).\n",
            "Warning in <Fit>: Abnormal termination of minimization.\n",
            "Info in <TCanvas::Print>: png file drive/My Drive/Imag_Parcial/Hist_gauss5.png has been created\n",
            "Warning in <TCanvas::Constructor>: Deleting canvas with same name: c\n",
            "Warning in <TROOT::Append>: Replacing existing TH1: histograma (Potential memory leak).\n",
            "Info in <TCanvas::Print>: png file drive/My Drive/Imag_Parcial/Hist_gauss6.png has been created\n",
            "Warning in <TCanvas::Constructor>: Deleting canvas with same name: c\n",
            "Warning in <TROOT::Append>: Replacing existing TH1: histograma (Potential memory leak).\n",
            "Info in <TCanvas::Print>: png file drive/My Drive/Imag_Parcial/Hist_gauss7.png has been created\n",
            "Warning in <TCanvas::Constructor>: Deleting canvas with same name: c\n",
            "Warning in <TROOT::Append>: Replacing existing TH1: histograma (Potential memory leak).\n",
            "Info in <TCanvas::Print>: png file drive/My Drive/Imag_Parcial/Hist_gauss8.png has been created\n",
            "Warning in <TCanvas::Constructor>: Deleting canvas with same name: c\n",
            "Warning in <TROOT::Append>: Replacing existing TH1: histograma (Potential memory leak).\n",
            "Info in <TCanvas::Print>: png file drive/My Drive/Imag_Parcial/Hist_gauss9.png has been created\n",
            "Warning in <TCanvas::Constructor>: Deleting canvas with same name: c\n",
            "Warning in <TROOT::Append>: Replacing existing TH1: histograma (Potential memory leak).\n",
            "Info in <TCanvas::Print>: png file drive/My Drive/Imag_Parcial/Hist_gauss10.png has been created\n",
            "Warning in <TCanvas::Constructor>: Deleting canvas with same name: c\n",
            "Warning in <TROOT::Append>: Replacing existing TH1: histograma (Potential memory leak).\n",
            "Info in <TCanvas::Print>: png file drive/My Drive/Imag_Parcial/Hist_gauss11.png has been created\n"
          ],
          "name": "stderr"
        }
      ]
    },
    {
      "metadata": {
        "id": "0sSotVxiSki5",
        "colab_type": "code",
        "outputId": "6bba3aba-00a8-47a4-cfc0-021fb98ca8b8",
        "colab": {
          "base_uri": "https://localhost:8080/",
          "height": 218
        }
      },
      "cell_type": "code",
      "source": [
        "# A continuación se muestran los valores centrales que corresponden a cada gaussiana\n",
        "\n",
        "x = np.array([5,10,15,20,25,30,35,40,45,50,55,60])  # Valores de n\n",
        "\n",
        "for m in range(0, len(mean_gauss)):\n",
        "  print('n = %d'%(x[m]), ',', 'Valor central = %f'%(mean_gauss[m]))"
      ],
      "execution_count": 55,
      "outputs": [
        {
          "output_type": "stream",
          "text": [
            "n = 5 , Valor central = 0.027374\n",
            "n = 10 , Valor central = -0.308585\n",
            "n = 15 , Valor central = -0.906949\n",
            "n = 20 , Valor central = -1.733577\n",
            "n = 25 , Valor central = -2.241859\n",
            "n = 30 , Valor central = -4.874444\n",
            "n = 35 , Valor central = 1.215721\n",
            "n = 40 , Valor central = 0.467741\n",
            "n = 45 , Valor central = 0.004569\n",
            "n = 50 , Valor central = -2.170307\n",
            "n = 55 , Valor central = 0.221558\n",
            "n = 60 , Valor central = 1.677821\n"
          ],
          "name": "stdout"
        }
      ]
    },
    {
      "metadata": {
        "id": "QKNTw1Bp7kQ4",
        "colab_type": "code",
        "colab": {}
      },
      "cell_type": "code",
      "source": [
        "# Se define una funcion que apartir de dos arreglos de datos hace una grafica y un fit de estos, los guarda como archivo .png\n",
        "# Esta función se usa para fitear los tiempos maximos de computo y los valores medios de las guassianas.\n",
        "\n",
        "def Graph_and_Fit_arreglo(size, x, y, title, xAxis, yAxis, fit, nameImage):\n",
        "  \n",
        "  c = TCanvas('c', 'title', 700, 600)\n",
        "\n",
        "  g = TGraph(size)\n",
        "  g.SetTitle(title)\n",
        "\n",
        "  for i in range(0, size):\n",
        "    g.SetPoint(i, x[i], y[i])\n",
        "\n",
        "  func = TF1('e', fit, min(x), max(x)) \n",
        "  g.Fit('e')\n",
        "\n",
        "  g.SetMarkerStyle(9)\n",
        "  c.SetGrid()\n",
        "  ejex = g.GetXaxis()\n",
        "  ejex.SetTitle(xAxis)\n",
        "  ejey = g.GetYaxis()\n",
        "  ejey.SetTitle(yAxis + '(s)')\n",
        "  g.Draw('AP')\n",
        "  c.SaveAs('drive/My Drive/Imag_Parcial/' + nameImage + '.png')\n",
        "  "
      ],
      "execution_count": 0,
      "outputs": []
    },
    {
      "metadata": {
        "id": "FZftwmX6_zFK",
        "colab_type": "code",
        "outputId": "b1a97ab3-8c71-4bc0-996f-de62f7cd954c",
        "colab": {
          "base_uri": "https://localhost:8080/",
          "height": 185
        }
      },
      "cell_type": "code",
      "source": [
        "# Se hace un fit para los datos de tiempo maximo de computo\n",
        "\n",
        "Graph_and_Fit_arreglo(12, x, T_max, 'Tiempos maximos de computo vs n', 'n', 'Tiempo maximo de computo', '[0] + [1]*exp([2]*x)', 'fit_Tiempos_maximos')"
      ],
      "execution_count": 59,
      "outputs": [
        {
          "output_type": "stream",
          "text": [
            "\n",
            "****************************************\n",
            "Minimizer is Minuit / Migrad\n",
            "Chi2                      =      15.0128\n",
            "NDf                       =            9\n",
            "NCalls                    =          154\n",
            "p0                        =      1.07156   +/-   nan         \n",
            "p1                        =      1.07156   +/-   nan         \n",
            "p2                        =     -7.71904   +/-   nan         \n"
          ],
          "name": "stdout"
        },
        {
          "output_type": "stream",
          "text": [
            "Info in <TCanvas::Print>: png file drive/My Drive/Imag_Parcial/fit_Tiempos_maximos.png has been created\n"
          ],
          "name": "stderr"
        }
      ]
    },
    {
      "metadata": {
        "id": "odzkNqNL7lTe",
        "colab_type": "text"
      },
      "cell_type": "markdown",
      "source": [
        "La función que ajusta los datos de máximo tiempo de computo es :\n",
        "$ T_{max}(n)\\approx 0.023 + 0.0012 e^{0.11n}$"
      ]
    },
    {
      "metadata": {
        "id": "hkBcIZroATsF",
        "colab_type": "code",
        "outputId": "b2c6de1a-e257-4c01-8ed4-e4078f4a6eda",
        "colab": {
          "base_uri": "https://localhost:8080/",
          "height": 202
        }
      },
      "cell_type": "code",
      "source": [
        "# Se hace un fit para los datos de valor medio de estabilizacion del sistema  \n",
        "\n",
        "x = np.array([5,10,15,20,25,30,35,40,45,50,55,60])  # Valores de n\n",
        "Graph_and_Fit_arreglo(12, x, mean_gauss, 'Valor medio de estabilizacion vs n', 'n', 'valor medio de estabilizacion', '[0] + [1]*x + [2]* x**2', 'fit_valMed_estabilizacion')"
      ],
      "execution_count": 60,
      "outputs": [
        {
          "output_type": "stream",
          "text": [
            "\n",
            "****************************************\n",
            "Minimizer is Minuit / Migrad\n",
            "Chi2                      =      26.0307\n",
            "NDf                       =            9\n",
            "Edm                       =  3.00645e-21\n",
            "NCalls                    =           65\n",
            "p0                        =     0.694115   +/-   1.7577      \n",
            "p1                        =    -0.167268   +/-   0.124332    \n",
            "p2                        =   0.00297134   +/-   0.00186207  \n"
          ],
          "name": "stdout"
        },
        {
          "output_type": "stream",
          "text": [
            "Info in <TCanvas::Print>: png file drive/My Drive/Imag_Parcial/fit_valMed_estabilizacion.png has been created\n"
          ],
          "name": "stderr"
        }
      ]
    },
    {
      "metadata": {
        "id": "5_I40hhCFcT9",
        "colab_type": "code",
        "colab": {}
      },
      "cell_type": "code",
      "source": [
        ""
      ],
      "execution_count": 0,
      "outputs": []
    }
  ]
}