{
  "nbformat": 4,
  "nbformat_minor": 0,
  "metadata": {
    "colab": {
      "name": "PrimerParcial-Mariana-JuanDiego.ipynb",
      "version": "0.3.2",
      "provenance": [],
      "collapsed_sections": [],
      "include_colab_link": true
    },
    "kernelspec": {
      "name": "python3",
      "display_name": "Python 3"
    }
  },
  "cells": [
    {
      "cell_type": "markdown",
      "metadata": {
        "id": "view-in-github",
        "colab_type": "text"
      },
      "source": [
        "<a href=\"https://colab.research.google.com/github/JuanDMV/CUFICO-2018-2/blob/master/PrimerParcial_Mariana_JuanDiego.ipynb\" target=\"_parent\"><img src=\"https://colab.research.google.com/assets/colab-badge.svg\" alt=\"Open In Colab\"/></a>"
      ]
    },
    {
      "metadata": {
        "id": "l2Kx9iqQ4ToX",
        "colab_type": "text"
      },
      "cell_type": "markdown",
      "source": [
        "# Primer parcial Fisica Computacional I\n",
        "## Mariana Jaramillo Acero\n",
        "## Juan Diego Mazo Vasquez\n",
        "### Instituto de Fisica\n",
        "### Universidad de Antioquia- 2019"
      ]
    },
    {
      "metadata": {
        "id": "C1gPEaTg6fLl",
        "colab_type": "text"
      },
      "cell_type": "markdown",
      "source": [
        "### 1. Install packages needed for root"
      ]
    },
    {
      "metadata": {
        "id": "gYEA4UKNplb6",
        "colab_type": "code",
        "outputId": "18a2b702-1bf1-4688-9e9e-4bf535befa63",
        "colab": {
          "base_uri": "https://localhost:8080/",
          "height": 306
        }
      },
      "cell_type": "code",
      "source": [
        "!apt-get install git dpkg-dev cmake g++ gcc binutils libx11-dev libxpm-dev libxft-dev libxext-dev tar gfortran subversion"
      ],
      "execution_count": 2,
      "outputs": [
        {
          "output_type": "stream",
          "text": [
            "Reading package lists... Done\n",
            "Building dependency tree       \n",
            "Reading state information... Done\n",
            "cmake is already the newest version (3.10.2-1ubuntu2).\n",
            "libxext-dev is already the newest version (2:1.3.3-1).\n",
            "libxft-dev is already the newest version (2.3.2-1).\n",
            "libxpm-dev is already the newest version (1:3.5.12-1).\n",
            "subversion is already the newest version (1.9.7-4ubuntu1).\n",
            "binutils is already the newest version (2.30-21ubuntu1~18.04).\n",
            "dpkg-dev is already the newest version (1.19.0.5ubuntu2.1).\n",
            "g++ is already the newest version (4:7.3.0-3ubuntu2.1).\n",
            "gcc is already the newest version (4:7.3.0-3ubuntu2.1).\n",
            "gfortran is already the newest version (4:7.3.0-3ubuntu2.1).\n",
            "git is already the newest version (1:2.17.1-1ubuntu0.4).\n",
            "libx11-dev is already the newest version (2:1.6.4-3ubuntu0.1).\n",
            "tar is already the newest version (1.29b-2ubuntu0.1).\n",
            "0 upgraded, 0 newly installed, 0 to remove and 7 not upgraded.\n"
          ],
          "name": "stdout"
        }
      ]
    },
    {
      "metadata": {
        "id": "3i5bTy4x601V",
        "colab_type": "text"
      },
      "cell_type": "markdown",
      "source": [
        "### 2. Mount the drive to get the root binary and untar it "
      ]
    },
    {
      "metadata": {
        "id": "gMhjqJ9noRcX",
        "colab_type": "code",
        "outputId": "725ff974-4c49-4d0c-8da5-f035c741af82",
        "colab": {
          "base_uri": "https://localhost:8080/",
          "height": 34
        }
      },
      "cell_type": "code",
      "source": [
        "# Load the Drive helper and mount\n",
        "from google.colab import drive\n",
        "from google.colab import files\n",
        "\n",
        "\n",
        "# This will prompt for authorization.\n",
        "drive.mount('/content/drive', force_remount=True)"
      ],
      "execution_count": 3,
      "outputs": [
        {
          "output_type": "stream",
          "text": [
            "Mounted at /content/drive\n"
          ],
          "name": "stdout"
        }
      ]
    },
    {
      "metadata": {
        "id": "dt2PEUjQo0RY",
        "colab_type": "code",
        "outputId": "3cdeefe7-1989-4e4c-f358-5d33529bf3ee",
        "colab": {
          "base_uri": "https://localhost:8080/",
          "height": 51
        }
      },
      "cell_type": "code",
      "source": [
        "# After executing the cell above, Drive\n",
        "# files will be present in \"/content/drive/My Drive\".\n",
        "!ls \"/content/drive/Team Drives/PyROOT_in_Google/\""
      ],
      "execution_count": 4,
      "outputs": [
        {
          "output_type": "stream",
          "text": [
            "BasicAnalysis.ipynb\t  HistogrammingInROOT.ipynb    TrimmedTree.root\n",
            "BasicPyROOTExample.ipynb  root_build_google_yikes.tar\n"
          ],
          "name": "stdout"
        }
      ]
    },
    {
      "metadata": {
        "id": "tRQGlQ4Hqau9",
        "colab_type": "code",
        "colab": {}
      },
      "cell_type": "code",
      "source": [
        "!tar -xf /content/drive/Team\\ Drives/PyROOT_in_Google/root_build_google_yikes.tar"
      ],
      "execution_count": 0,
      "outputs": []
    },
    {
      "metadata": {
        "id": "oXpUhFQNborz",
        "colab_type": "text"
      },
      "cell_type": "markdown",
      "source": [
        "**Cargar los datos:**"
      ]
    },
    {
      "metadata": {
        "id": "VoPUYsf5LXys",
        "colab_type": "code",
        "outputId": "363e3081-4d7b-4961-8f90-b300ef80023f",
        "colab": {
          "resources": {
            "http://localhost:8080/nbextensions/google.colab/files.js": {
              "data": "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",
              "ok": true,
              "headers": [
                [
                  "content-type",
                  "application/javascript"
                ]
              ],
              "status": 200,
              "status_text": ""
            }
          },
          "base_uri": "https://localhost:8080/",
          "height": 448
        }
      },
      "cell_type": "code",
      "source": [
        "\n",
        "uploaded = files.upload()\n"
      ],
      "execution_count": 6,
      "outputs": [
        {
          "output_type": "display_data",
          "data": {
            "text/html": [
              "\n",
              "     <input type=\"file\" id=\"files-e97ea8a3-db49-4a22-89f0-78460ad0b529\" name=\"files[]\" multiple disabled />\n",
              "     <output id=\"result-e97ea8a3-db49-4a22-89f0-78460ad0b529\">\n",
              "      Upload widget is only available when the cell has been executed in the\n",
              "      current browser session. Please rerun this cell to enable.\n",
              "      </output>\n",
              "      <script src=\"/nbextensions/google.colab/files.js\"></script> "
            ],
            "text/plain": [
              "<IPython.core.display.HTML object>"
            ]
          },
          "metadata": {
            "tags": []
          }
        },
        {
          "output_type": "stream",
          "text": [
            "Saving Dato_5.txt to Dato_5 (7).txt\n",
            "Saving Dato_10.txt to Dato_10 (7).txt\n",
            "Saving Dato_15.txt to Dato_15 (7).txt\n",
            "Saving Dato_20.txt to Dato_20 (7).txt\n",
            "Saving Dato_25.txt to Dato_25 (7).txt\n",
            "Saving Dato_30.txt to Dato_30 (7).txt\n",
            "Saving Dato_35.txt to Dato_35 (7).txt\n",
            "Saving Dato_40.txt to Dato_40 (7).txt\n",
            "Saving Dato_45.txt to Dato_45 (7).txt\n",
            "Saving Dato_50.txt to Dato_50 (7).txt\n",
            "Saving Dato_55.txt to Dato_55 (7).txt\n",
            "Saving Dato_60.txt to Dato_60 (1).txt\n"
          ],
          "name": "stdout"
        }
      ]
    },
    {
      "metadata": {
        "id": "1nHFk9y68VVP",
        "colab_type": "text"
      },
      "cell_type": "markdown",
      "source": [
        "\n",
        "### 3. Modify the PATH in order to tell python where to look for pyROOT\n"
      ]
    },
    {
      "metadata": {
        "id": "N3ndoY6iu6_J",
        "colab_type": "code",
        "colab": {}
      },
      "cell_type": "code",
      "source": [
        "import sys\n",
        "sys.path.append(\"/content/root_build/\")\n",
        "sys.path.append(\"/content/root_build/bin/\")\n",
        "sys.path.append(\"/content/root_build/include/\")\n",
        "sys.path.append(\"/content/root_build/lib/\")"
      ],
      "execution_count": 0,
      "outputs": []
    },
    {
      "metadata": {
        "id": "lTFxGdo6v-vn",
        "colab_type": "code",
        "colab": {
          "base_uri": "https://localhost:8080/",
          "height": 34
        },
        "outputId": "aea6a0f8-fbd7-473d-c896-5999dc710368"
      },
      "cell_type": "code",
      "source": [
        "import ROOT\n",
        "import numpy as np\n",
        "from ROOT import gROOT \n",
        "from ROOT import TCanvas, TGraph, TF1"
      ],
      "execution_count": 8,
      "outputs": [
        {
          "output_type": "stream",
          "text": [
            "Welcome to JupyROOT 6.14/04\n"
          ],
          "name": "stdout"
        }
      ]
    },
    {
      "metadata": {
        "id": "EOxTl6XIb2HA",
        "colab_type": "text"
      },
      "cell_type": "markdown",
      "source": [
        "Los datos son subidos como diccionarios, a los cuales hay que acceder y decodificar para obtener los datos"
      ]
    },
    {
      "metadata": {
        "id": "V-4n6OP4SDwE",
        "colab_type": "code",
        "outputId": "58811e39-39be-4527-b683-00010fb159b3",
        "colab": {
          "base_uri": "https://localhost:8080/",
          "height": 241
        }
      },
      "cell_type": "code",
      "source": [
        "uploaded"
      ],
      "execution_count": 9,
      "outputs": [
        {
          "output_type": "execute_result",
          "data": {
            "text/plain": [
              "{'Dato_10.txt': b'0.9667\\n1.4289\\n1.5248\\n2.9613\\n1.5040\\n1.3418\\n1.0871\\n3.1236\\n1.7460\\n5.5796\\n1.1125\\n8.8421\\n2.0085\\n1.4314\\n2.2180\\n1.4999\\n2.2280\\n3.0049\\n1.6706\\n4.3115\\n',\n",
              " 'Dato_15.txt': b'1.9863\\n2.5938\\n2.0054\\n7.8404\\n4.2327\\n3.5676\\n3.6997\\n4.3064\\n8.2973\\n4.6483\\n0.9853\\n1.3791\\n3.3653\\n4.2607\\n5.8106\\n3.8327\\n8.1062\\n2.4679\\n6.6019\\n2.4758\\n',\n",
              " 'Dato_20.txt': b'4.7356\\n6.0747\\n10.8550\\n4.9531\\n12.4153\\n3.2845\\n4.7729\\n15.5775\\n5.4305\\n10.9187\\n8.2497\\n4.7770\\n8.0419\\n11.7034\\n3.0355\\n3.4089\\n4.9127\\n6.1467\\n6.0946\\n2.3333\\n',\n",
              " 'Dato_25.txt': b'18.0097\\n16.4644\\n33.1443\\n33.3224\\n18.6399\\n6.0509\\n8.2062\\n10.9883\\n17.1607\\n3.6159\\n18.0078\\n15.8155\\n16.2049\\n13.8278\\n11.3344\\n10.4239\\n22.7105\\n5.8741\\n15.3889\\n18.4425\\n',\n",
              " 'Dato_30.txt': b'10.1562\\n57.7751\\n31.6121\\n37.5205\\n94.382\\n12.2310\\n17.2441\\n14.0185\\n11.8993\\n22.8759\\n44.1380\\n15.6146\\n30.0812\\n8.3186\\n47.6608\\n29.5569\\n13.8156\\n29.0488\\n15.2146\\n29.6305\\n',\n",
              " 'Dato_35.txt': b'12.5807\\n36.5696\\n15.5720\\n34.0005\\n18.1459\\n20.0605\\n14.4164\\n39.8060\\n52.1519\\n19.1605\\n14.6888\\n38.1054\\n12.7198\\n23.5142\\n28.9064\\n24.5155\\n17.7501\\n25.3445\\n29.7262\\n49.0209\\n',\n",
              " 'Dato_40.txt': b'47.9206\\n58.2642\\n65.3817\\n34.7573\\n55.7369\\n27.6358\\n34.0043\\n22.2548\\n78.5024\\n35.7735\\n63.3938\\n34.8303\\n19.1491\\n62.9239\\n33.9511\\n39.7387\\n22.5283\\n36.8014\\n19.2844\\n39.8120\\n',\n",
              " 'Dato_45.txt': b'54.2091\\n88.9720\\n53.3168\\n69.9585\\n46.7305\\n43.1855\\n67.7009\\n68.8158\\n64.6272\\n65.4730\\n38.1257\\n48.3949\\n76.2716\\n73.9636\\n22.5157\\n66.1019\\n67.5386\\n89.2380\\n47.5216\\n85.8756\\n',\n",
              " 'Dato_5.txt': b'1.1208\\n0.5144\\n1.0107\\n0.7967\\n0.7735\\n0.5155\\n1.2259\\n0.7705\\n0.6887\\n0.6858\\n1.0303\\n0.5399\\n0.4721\\n1.8879\\n0.8848\\n0.5298\\n0.5852\\n0.5159\\n0.6817\\n0.6436\\n',\n",
              " 'Dato_50.txt': b'68.7824\\n80.9058\\n99.0799\\n33.4608\\n98.5600\\n30.1842\\n87.0268\\n71.1247\\n69.5251\\n58.8011\\n55.8768\\n39.3684\\n50.5660\\n85.9641\\n49.4076\\n88.7440\\n73.7218\\n88.0428\\n31.0584\\n40.2745\\n',\n",
              " 'Dato_55.txt': b'97.1276\\n60.1974\\n99.5591\\n112.4663\\n57.8242\\n85.5082\\n46.7250\\n64.7078\\n60.6019\\n40.1710\\n97.9117\\n45.3638\\n100.7894\\n94.4338\\n73.0607\\n53.4493\\n65.8238\\n58.9364\\n55.4939\\n98.2978\\n',\n",
              " 'Dato_60.txt': b'70.4632\\n69.7403\\n103.2104\\n54.4926\\n68.5745\\n127.8770\\n59.3846\\n221.9669\\n151.2628\\n134.4652\\n125.1835\\n98.2488\\n95.1298\\n88.4699\\n119.1622\\n131.5598\\n142.4647\\n54.8809\\n97.1238\\n85.4499\\n'}"
            ]
          },
          "metadata": {
            "tags": []
          },
          "execution_count": 9
        }
      ]
    },
    {
      "metadata": {
        "id": "Hwk5wwRcH-MO",
        "colab_type": "code",
        "outputId": "9190503d-7d43-4aff-f5de-9507301aed1a",
        "colab": {
          "base_uri": "https://localhost:8080/",
          "height": 54
        }
      },
      "cell_type": "code",
      "source": [
        "arreglos = []\n",
        "\n",
        "def read(name):\n",
        "  D = uploaded[name].decode('utf-8')\n",
        "  M = D.split('\\n')\n",
        "  X = []\n",
        "  for i in range(len(M)):\n",
        "    if M[i].replace('.', '').isdigit():\n",
        "      X.append(float(M[i]))\n",
        "  \n",
        "  return X\n",
        "\n",
        "for i in range(5, 61, 5):\n",
        "  arreglos.append(read('Dato_%d.txt' % i))\n",
        " \n",
        "print(arreglos)\n",
        "  "
      ],
      "execution_count": 10,
      "outputs": [
        {
          "output_type": "stream",
          "text": [
            "[[1.1208, 0.5144, 1.0107, 0.7967, 0.7735, 0.5155, 1.2259, 0.7705, 0.6887, 0.6858, 1.0303, 0.5399, 0.4721, 1.8879, 0.8848, 0.5298, 0.5852, 0.5159, 0.6817, 0.6436], [0.9667, 1.4289, 1.5248, 2.9613, 1.504, 1.3418, 1.0871, 3.1236, 1.746, 5.5796, 1.1125, 8.8421, 2.0085, 1.4314, 2.218, 1.4999, 2.228, 3.0049, 1.6706, 4.3115], [1.9863, 2.5938, 2.0054, 7.8404, 4.2327, 3.5676, 3.6997, 4.3064, 8.2973, 4.6483, 0.9853, 1.3791, 3.3653, 4.2607, 5.8106, 3.8327, 8.1062, 2.4679, 6.6019, 2.4758], [4.7356, 6.0747, 10.855, 4.9531, 12.4153, 3.2845, 4.7729, 15.5775, 5.4305, 10.9187, 8.2497, 4.777, 8.0419, 11.7034, 3.0355, 3.4089, 4.9127, 6.1467, 6.0946, 2.3333], [18.0097, 16.4644, 33.1443, 33.3224, 18.6399, 6.0509, 8.2062, 10.9883, 17.1607, 3.6159, 18.0078, 15.8155, 16.2049, 13.8278, 11.3344, 10.4239, 22.7105, 5.8741, 15.3889, 18.4425], [10.1562, 57.7751, 31.6121, 37.5205, 94.382, 12.231, 17.2441, 14.0185, 11.8993, 22.8759, 44.138, 15.6146, 30.0812, 8.3186, 47.6608, 29.5569, 13.8156, 29.0488, 15.2146, 29.6305], [12.5807, 36.5696, 15.572, 34.0005, 18.1459, 20.0605, 14.4164, 39.806, 52.1519, 19.1605, 14.6888, 38.1054, 12.7198, 23.5142, 28.9064, 24.5155, 17.7501, 25.3445, 29.7262, 49.0209], [47.9206, 58.2642, 65.3817, 34.7573, 55.7369, 27.6358, 34.0043, 22.2548, 78.5024, 35.7735, 63.3938, 34.8303, 19.1491, 62.9239, 33.9511, 39.7387, 22.5283, 36.8014, 19.2844, 39.812], [54.2091, 88.972, 53.3168, 69.9585, 46.7305, 43.1855, 67.7009, 68.8158, 64.6272, 65.473, 38.1257, 48.3949, 76.2716, 73.9636, 22.5157, 66.1019, 67.5386, 89.238, 47.5216, 85.8756], [68.7824, 80.9058, 99.0799, 33.4608, 98.56, 30.1842, 87.0268, 71.1247, 69.5251, 58.8011, 55.8768, 39.3684, 50.566, 85.9641, 49.4076, 88.744, 73.7218, 88.0428, 31.0584, 40.2745], [97.1276, 60.1974, 99.5591, 112.4663, 57.8242, 85.5082, 46.725, 64.7078, 60.6019, 40.171, 97.9117, 45.3638, 100.7894, 94.4338, 73.0607, 53.4493, 65.8238, 58.9364, 55.4939, 98.2978], [70.4632, 69.7403, 103.2104, 54.4926, 68.5745, 127.877, 59.3846, 221.9669, 151.2628, 134.4652, 125.1835, 98.2488, 95.1298, 88.4699, 119.1622, 131.5598, 142.4647, 54.8809, 97.1238, 85.4499]]\n"
          ],
          "name": "stdout"
        }
      ]
    },
    {
      "metadata": {
        "id": "ZXZvNKtRcFWq",
        "colab_type": "text"
      },
      "cell_type": "markdown",
      "source": [
        "## A continuación se muestran los histogramas para los datos de tiempo para cada valor del rango del mapa. Adicional se presentan las curvas de ajuste realizadas con ROOT y se muestran los valores de los parámetros de ajuste\n"
      ]
    },
    {
      "metadata": {
        "id": "ZH8Es02Mfwp9",
        "colab_type": "code",
        "outputId": "4a4f9e03-8e49-49ff-c3ba-8fabfe8c5582",
        "colab": {
          "base_uri": "https://localhost:8080/",
          "height": 1025
        }
      },
      "cell_type": "code",
      "source": [
        "q = 0\n",
        "Histo = ROOT.TH1F( 'n = 5' , '', 8, 0, 1.5)\n",
        "for i in arreglos[q]:\n",
        "    Histo.Fill(i)\n",
        "c0 = ROOT.TCanvas( 'c0', 'Histograma n = 5', 200, 10, 700, 900 )\n",
        "c0.SetFillColor( 17)\n",
        "Histo.Draw()\n",
        "c0.Update()\n",
        "gROOT.GetListOfCanvases().Draw()\n",
        "\n",
        "f1 = ROOT.TF1(\"f1\", \"gaus\", 0, 1.5);\n",
        "Histo.Fit(\"f1\",\"S\")"
      ],
      "execution_count": 14,
      "outputs": [
        {
          "output_type": "execute_result",
          "data": {
            "text/plain": [
              "<ROOT.TFitResultPtr object at 0x87a8c00>"
            ]
          },
          "metadata": {
            "tags": []
          },
          "execution_count": 14
        },
        {
          "output_type": "stream",
          "text": [
            " FCN=0.177478 FROM MIGRAD    STATUS=CONVERGED      81 CALLS          82 TOTAL\n",
            "                     EDM=8.90343e-08    STRATEGY= 1      ERROR MATRIX ACCURATE \n",
            "  EXT PARAMETER                                   STEP         FIRST   \n",
            "  NO.   NAME      VALUE            ERROR          SIZE      DERIVATIVE \n",
            "   1  Constant     5.79888e+00   2.04107e+00   7.07860e-04   1.79845e-04\n",
            "   2  Mean         5.00169e-01   4.43101e-01   6.23281e-05   1.68614e-03\n",
            "   3  Sigma        4.03465e-01   2.67771e-01   5.07477e-05   6.47369e-04\n"
          ],
          "name": "stdout"
        },
        {
          "output_type": "stream",
          "text": [
            "Warning in <TCanvas::Constructor>: Deleting canvas with same name: c0\n"
          ],
          "name": "stderr"
        },
        {
          "output_type": "display_data",
          "data": {
            "image/png": "[encoded data removed]",
            "text/plain": [
              "<IPython.core.display.Image object>"
            ]
          },
          "metadata": {
            "tags": []
          }
        }
      ]
    },
    {
      "metadata": {
        "id": "B4mt90mId2v1",
        "colab_type": "code",
        "outputId": "6233b9d2-b85c-4579-a3ac-53830c6414d4",
        "colab": {
          "base_uri": "https://localhost:8080/",
          "height": 1025
        }
      },
      "cell_type": "code",
      "source": [
        "q = 1\n",
        "Histo = ROOT.TH1F( 'n = 10' , '', 8, 0, 11.0)\n",
        "for i in arreglos[q]:\n",
        "    Histo.Fill(i)\n",
        "c0 = ROOT.TCanvas( 'c0', 'Histograma n = 10', 200, 10, 700, 900 )\n",
        "c0.SetFillColor( 17)\n",
        "Histo.Draw()\n",
        "c0.Update()\n",
        "gROOT.GetListOfCanvases().Draw()\n",
        "\n",
        "f1 = ROOT.TF1(\"f1\", \"gaus\", 0, 11.0);\n",
        "Histo.Fit(\"f1\",\"S\")"
      ],
      "execution_count": 12,
      "outputs": [
        {
          "output_type": "execute_result",
          "data": {
            "text/plain": [
              "<ROOT.TFitResultPtr object at 0x8576180>"
            ]
          },
          "metadata": {
            "tags": []
          },
          "execution_count": 12
        },
        {
          "output_type": "stream",
          "text": [
            " FCN=2.73621 FROM MIGRAD    STATUS=CONVERGED      91 CALLS          92 TOTAL\n",
            "                     EDM=3.41668e-07    STRATEGY= 1      ERROR MATRIX ACCURATE \n",
            "  EXT PARAMETER                                   STEP         FIRST   \n",
            "  NO.   NAME      VALUE            ERROR          SIZE      DERIVATIVE \n",
            "   1  Constant     9.51243e+00   3.64981e+00   2.16184e-03  -2.88498e-04\n",
            "   2  Mean         1.99004e+00   2.57618e-01   2.43299e-04  -1.83538e-03\n",
            "   3  Sigma        1.01218e+00   3.36514e-01   4.60037e-05  -7.56106e-03\n"
          ],
          "name": "stdout"
        },
        {
          "output_type": "stream",
          "text": [
            "Warning in <TCanvas::Constructor>: Deleting canvas with same name: c0\n"
          ],
          "name": "stderr"
        },
        {
          "output_type": "display_data",
          "data": {
            "image/png": "[encoded data removed]",
            "text/plain": [
              "<IPython.core.display.Image object>"
            ]
          },
          "metadata": {
            "tags": []
          }
        }
      ]
    },
    {
      "metadata": {
        "id": "rKNIC36x8pBj",
        "colab_type": "code",
        "outputId": "dfd8fff1-5a54-449c-c408-6fd38cc6044b",
        "colab": {
          "base_uri": "https://localhost:8080/",
          "height": 1025
        }
      },
      "cell_type": "code",
      "source": [
        "q = 2\n",
        "Histo = ROOT.TH1F( 'n = 15' , '', 10, 0, 10.0)\n",
        "for i in arreglos[q]:\n",
        "    Histo.Fill(i)\n",
        "c0 = ROOT.TCanvas( 'c0', 'Histograma n = 15', 200, 10, 700, 900 )\n",
        "c0.SetFillColor( 17)\n",
        "Histo.Draw()\n",
        "c0.Update()\n",
        "gROOT.GetListOfCanvases().Draw()\n",
        "\n",
        "f1 = ROOT.TF1(\"f1\", \"gaus\", 0, 9.0);\n",
        "Histo.Fit(\"f1\",\"S\")"
      ],
      "execution_count": 13,
      "outputs": [
        {
          "output_type": "execute_result",
          "data": {
            "text/plain": [
              "<ROOT.TFitResultPtr object at 0x87a9160>"
            ]
          },
          "metadata": {
            "tags": []
          },
          "execution_count": 13
        },
        {
          "output_type": "stream",
          "text": [
            " FCN=3.49992 FROM MIGRAD    STATUS=CONVERGED      84 CALLS          85 TOTAL\n",
            "                     EDM=1.00908e-09    STRATEGY= 1      ERROR MATRIX ACCURATE \n",
            "  EXT PARAMETER                                   STEP         FIRST   \n",
            "  NO.   NAME      VALUE            ERROR          SIZE      DERIVATIVE \n",
            "   1  Constant     3.96439e+00   1.67723e+00   1.01055e-03  -3.56815e-06\n",
            "   2  Mean         3.29725e+00   4.51005e-01   4.64410e-04   7.70756e-05\n",
            "   3  Sigma        1.70316e+00   6.64106e-01   6.84048e-05   1.77158e-04\n"
          ],
          "name": "stdout"
        },
        {
          "output_type": "stream",
          "text": [
            "Warning in <TCanvas::Constructor>: Deleting canvas with same name: c0\n"
          ],
          "name": "stderr"
        },
        {
          "output_type": "display_data",
          "data": {
            "image/png": "[encoded data removed]",
            "text/plain": [
              "<IPython.core.display.Image object>"
            ]
          },
          "metadata": {
            "tags": []
          }
        }
      ]
    },
    {
      "metadata": {
        "id": "8odt6xnf8117",
        "colab_type": "code",
        "outputId": "eca10ce8-e790-4702-b9b2-3aa2c61d0085",
        "colab": {
          "base_uri": "https://localhost:8080/",
          "height": 1042
        }
      },
      "cell_type": "code",
      "source": [
        "q = 3\n",
        "Histo = ROOT.TH1F( 'n = 20' , '', 15, 0, 18.0)\n",
        "for i in arreglos[q]:\n",
        "    Histo.Fill(i)\n",
        "c0 = ROOT.TCanvas( 'c0', 'Histograma n = 20', 200, 10, 700, 900 )\n",
        "c0.SetFillColor( 17)\n",
        "Histo.Draw()\n",
        "c0.Update()\n",
        "gROOT.GetListOfCanvases().Draw()\n",
        "\n",
        "f1 = ROOT.TF1(\"f1\", \"gaus\", 0, 18.0);\n",
        "Histo.Fit(\"f1\",\"S\")"
      ],
      "execution_count": 18,
      "outputs": [
        {
          "output_type": "execute_result",
          "data": {
            "text/plain": [
              "<ROOT.TFitResultPtr object at 0x87a9560>"
            ]
          },
          "metadata": {
            "tags": []
          },
          "execution_count": 18
        },
        {
          "output_type": "stream",
          "text": [
            " FCN=1.85172 FROM MIGRAD    STATUS=CONVERGED      67 CALLS          68 TOTAL\n",
            "                     EDM=2.92107e-07    STRATEGY= 1      ERROR MATRIX ACCURATE \n",
            "  EXT PARAMETER                                   STEP         FIRST   \n",
            "  NO.   NAME      VALUE            ERROR          SIZE      DERIVATIVE \n",
            "   1  Constant     2.83108e+00   8.97201e-01   5.48475e-04  -1.71106e-04\n",
            "   2  Mean         7.05920e+00   1.52624e+00   1.23435e-03   1.76930e-04\n",
            "   3  Sigma        4.75499e+00   1.78964e+00   8.95113e-05  -5.22122e-03\n"
          ],
          "name": "stdout"
        },
        {
          "output_type": "stream",
          "text": [
            "Warning in <TROOT::Append>: Replacing existing TH1: n = 20 (Potential memory leak).\n",
            "Warning in <TCanvas::Constructor>: Deleting canvas with same name: c0\n"
          ],
          "name": "stderr"
        },
        {
          "output_type": "display_data",
          "data": {
            "image/png": "[encoded data removed]",
            "text/plain": [
              "<IPython.core.display.Image object>"
            ]
          },
          "metadata": {
            "tags": []
          }
        }
      ]
    },
    {
      "metadata": {
        "id": "mYgjQ_Hl8_mq",
        "colab_type": "code",
        "outputId": "b6b3bbbf-ca18-45f9-d345-7f85b1abf460",
        "colab": {
          "base_uri": "https://localhost:8080/",
          "height": 1042
        }
      },
      "cell_type": "code",
      "source": [
        "q = 4\n",
        "Histo = ROOT.TH1F( 'n = 25' , '', 10, 0, 40.0)\n",
        "for i in arreglos[q]:\n",
        "    Histo.Fill(i)\n",
        "c0 = ROOT.TCanvas( 'c0', 'Histograma n = 25', 200, 10, 700, 900 )\n",
        "c0.SetFillColor( 17)\n",
        "Histo.Draw()\n",
        "c0.Update()\n",
        "gROOT.GetListOfCanvases().Draw()\n",
        "\n",
        "f1 = ROOT.TF1(\"f1\", \"gaus\", 0, 40.0);\n",
        "Histo.Fit(\"f1\",\"S\")"
      ],
      "execution_count": 20,
      "outputs": [
        {
          "output_type": "execute_result",
          "data": {
            "text/plain": [
              "<ROOT.TFitResultPtr object at 0x87a8900>"
            ]
          },
          "metadata": {
            "tags": []
          },
          "execution_count": 20
        },
        {
          "output_type": "stream",
          "text": [
            " FCN=4.91626 FROM MIGRAD    STATUS=CONVERGED      69 CALLS          70 TOTAL\n",
            "                     EDM=6.82458e-07    STRATEGY= 1      ERROR MATRIX ACCURATE \n",
            "  EXT PARAMETER                                   STEP         FIRST   \n",
            "  NO.   NAME      VALUE            ERROR          SIZE      DERIVATIVE \n",
            "   1  Constant     4.04184e+00   1.38084e+00   1.23970e-03  -3.10603e-04\n",
            "   2  Mean         1.30618e+01   1.88139e+00   2.22578e-03  -4.15644e-04\n",
            "   3  Sigma        6.30352e+00   1.87884e+00   7.82592e-05  -1.27694e-02\n"
          ],
          "name": "stdout"
        },
        {
          "output_type": "stream",
          "text": [
            "Warning in <TROOT::Append>: Replacing existing TH1: n = 25 (Potential memory leak).\n",
            "Warning in <TCanvas::Constructor>: Deleting canvas with same name: c0\n"
          ],
          "name": "stderr"
        },
        {
          "output_type": "display_data",
          "data": {
            "image/png": "[encoded data removed]",
            "text/plain": [
              "<IPython.core.display.Image object>"
            ]
          },
          "metadata": {
            "tags": []
          }
        }
      ]
    },
    {
      "metadata": {
        "id": "03xQCYIf8_1P",
        "colab_type": "code",
        "outputId": "305fe5c8-1256-41ec-ebaf-66ec50bc5060",
        "colab": {
          "base_uri": "https://localhost:8080/",
          "height": 1025
        }
      },
      "cell_type": "code",
      "source": [
        "q = 5\n",
        "Histo = ROOT.TH1F( 'n = 30' , '', 5, 0, 60.0)\n",
        "for i in arreglos[q]:\n",
        "    Histo.Fill(i)\n",
        "c0 = ROOT.TCanvas( 'c0', 'Histograma n = 30', 200, 10, 700, 900 )\n",
        "c0.SetFillColor( 17)\n",
        "Histo.Draw()\n",
        "c0.Update()\n",
        "gROOT.GetListOfCanvases().Draw()\n",
        "\n",
        "f1 = ROOT.TF1(\"f1\", \"gaus\", 0, 60.0);\n",
        "Histo.Fit(\"f1\",\"S\")"
      ],
      "execution_count": 15,
      "outputs": [
        {
          "output_type": "execute_result",
          "data": {
            "text/plain": [
              "<ROOT.TFitResultPtr object at 0x8f8b600>"
            ]
          },
          "metadata": {
            "tags": []
          },
          "execution_count": 15
        },
        {
          "output_type": "stream",
          "text": [
            " FCN=0.325032 FROM MIGRAD    STATUS=CONVERGED      69 CALLS          70 TOTAL\n",
            "                     EDM=6.94687e-09    STRATEGY= 1      ERROR MATRIX ACCURATE \n",
            "  EXT PARAMETER                                   STEP         FIRST   \n",
            "  NO.   NAME      VALUE            ERROR          SIZE      DERIVATIVE \n",
            "   1  Constant     6.20246e+00   1.92349e+00   8.06810e-04   2.21208e-05\n",
            "   2  Mean         2.32903e+01   4.37961e+00   2.35409e-03  -8.79785e-06\n",
            "   3  Sigma        1.54793e+01   4.48595e+00   4.31362e-05  -8.27288e-04\n"
          ],
          "name": "stdout"
        },
        {
          "output_type": "stream",
          "text": [
            "Warning in <TCanvas::Constructor>: Deleting canvas with same name: c0\n"
          ],
          "name": "stderr"
        },
        {
          "output_type": "display_data",
          "data": {
            "image/png": "[encoded data removed]",
            "text/plain": [
              "<IPython.core.display.Image object>"
            ]
          },
          "metadata": {
            "tags": []
          }
        }
      ]
    },
    {
      "metadata": {
        "id": "wY2jYDRg8_-R",
        "colab_type": "code",
        "outputId": "1773bfb8-c07f-4bb9-a4bf-259b2c020a22",
        "colab": {
          "base_uri": "https://localhost:8080/",
          "height": 1042
        }
      },
      "cell_type": "code",
      "source": [
        "q = 6\n",
        "Histo = ROOT.TH1F( 'n = 35' , '', 10, 0, 58.0)\n",
        "for i in arreglos[q]:\n",
        "    Histo.Fill(i)\n",
        "c0 = ROOT.TCanvas( 'c0', 'Histograma n = 35', 200, 10, 700, 900 )\n",
        "c0.SetFillColor( 17)\n",
        "Histo.Draw()\n",
        "c0.Update()\n",
        "gROOT.GetListOfCanvases().Draw()\n",
        "\n",
        "f1 = ROOT.TF1(\"f1\", \"gaus\", 0, 58.0);\n",
        "Histo.Fit(\"f1\",\"S\")\n",
        "\n"
      ],
      "execution_count": 22,
      "outputs": [
        {
          "output_type": "execute_result",
          "data": {
            "text/plain": [
              "<ROOT.TFitResultPtr object at 0x87a8520>"
            ]
          },
          "metadata": {
            "tags": []
          },
          "execution_count": 22
        },
        {
          "output_type": "stream",
          "text": [
            " FCN=0.639125 FROM MIGRAD    STATUS=CONVERGED    1116 CALLS        1117 TOTAL\n",
            "                     EDM=5.30901e-07    STRATEGY= 1  ERROR MATRIX UNCERTAINTY   2.0 per cent\n",
            "  EXT PARAMETER                                   STEP         FIRST   \n",
            "  NO.   NAME      VALUE            ERROR          SIZE      DERIVATIVE \n",
            "   1  Constant     3.72637e+02   1.23213e+03   7.95805e-02  -7.21526e-06\n",
            "   2  Mean        -3.05553e+02   1.23135e+02  -1.71376e-02  -7.53236e-05\n",
            "   3  Sigma        1.08345e+02   5.43909e+01   2.24816e-03  -4.73543e-04\n"
          ],
          "name": "stdout"
        },
        {
          "output_type": "stream",
          "text": [
            "Warning in <TROOT::Append>: Replacing existing TH1: n = 35 (Potential memory leak).\n",
            "Warning in <TCanvas::Constructor>: Deleting canvas with same name: c0\n"
          ],
          "name": "stderr"
        },
        {
          "output_type": "display_data",
          "data": {
            "image/png": "[encoded data removed]",
            "text/plain": [
              "<IPython.core.display.Image object>"
            ]
          },
          "metadata": {
            "tags": []
          }
        }
      ]
    },
    {
      "metadata": {
        "id": "yHckXcfO9ACg",
        "colab_type": "code",
        "outputId": "1da5aeec-66f6-41d8-fa35-96aed09b77b7",
        "colab": {
          "base_uri": "https://localhost:8080/",
          "height": 1042
        }
      },
      "cell_type": "code",
      "source": [
        "q = 7\n",
        "Histo = ROOT.TH1F( 'n = 40' , '', 5, 0, 100.0)\n",
        "for i in arreglos[q]:\n",
        "    Histo.Fill(i)\n",
        "c0 = ROOT.TCanvas( 'c0', 'Histograma n = 40', 200, 10, 700, 900 )\n",
        "c0.SetFillColor( 17)\n",
        "Histo.Draw()\n",
        "c0.Update()\n",
        "gROOT.GetListOfCanvases().Draw()\n",
        "\n",
        "f1 = ROOT.TF1(\"f1\", \"gaus\", 0, 100.0);\n",
        "Histo.Fit(\"f1\",\"S\")"
      ],
      "execution_count": 26,
      "outputs": [
        {
          "output_type": "execute_result",
          "data": {
            "text/plain": [
              "<ROOT.TFitResultPtr object at 0x8ae64a0>"
            ]
          },
          "metadata": {
            "tags": []
          },
          "execution_count": 26
        },
        {
          "output_type": "stream",
          "text": [
            " FCN=3.91107 FROM MIGRAD    STATUS=CONVERGED      99 CALLS         100 TOTAL\n",
            "                     EDM=6.97473e-08    STRATEGY= 1      ERROR MATRIX ACCURATE \n",
            "  EXT PARAMETER                                   STEP         FIRST   \n",
            "  NO.   NAME      VALUE            ERROR          SIZE      DERIVATIVE \n",
            "   1  Constant     1.09359e+01   3.44051e+00   2.95070e-03  -7.88776e-05\n",
            "   2  Mean         3.14707e+01   2.99587e+00   3.23404e-03  -5.73784e-06\n",
            "   3  Sigma        1.17300e+01   2.34744e+00   4.46568e-05   2.69170e-03\n"
          ],
          "name": "stdout"
        },
        {
          "output_type": "stream",
          "text": [
            "Warning in <TROOT::Append>: Replacing existing TH1: n = 40 (Potential memory leak).\n",
            "Warning in <TCanvas::Constructor>: Deleting canvas with same name: c0\n"
          ],
          "name": "stderr"
        },
        {
          "output_type": "display_data",
          "data": {
            "image/png": "[encoded data removed]",
            "text/plain": [
              "<IPython.core.display.Image object>"
            ]
          },
          "metadata": {
            "tags": []
          }
        }
      ]
    },
    {
      "metadata": {
        "id": "yQENSGqm9AI2",
        "colab_type": "code",
        "outputId": "c7f040ec-3b9c-41ef-de50-f83ca4fffc02",
        "colab": {
          "base_uri": "https://localhost:8080/",
          "height": 1042
        }
      },
      "cell_type": "code",
      "source": [
        "\n",
        "q = 8\n",
        "Histo = ROOT.TH1F( 'n = 45' , '', 5, 0, 130.0)\n",
        "for i in arreglos[q]:\n",
        "    Histo.Fill(i)\n",
        "c0 = ROOT.TCanvas( 'c0', 'Histograma n = 45', 200, 10, 700, 900 )\n",
        "c0.SetFillColor( 17)\n",
        "Histo.Draw()\n",
        "c0.Update()\n",
        "gROOT.GetListOfCanvases().Draw()\n",
        "\n",
        "f1 = ROOT.TF1(\"f1\", \"gaus\", 0,130.0);\n",
        "Histo.Fit(\"f1\",\"S\")"
      ],
      "execution_count": 28,
      "outputs": [
        {
          "output_type": "execute_result",
          "data": {
            "text/plain": [
              "<ROOT.TFitResultPtr object at 0x8ae6600>"
            ]
          },
          "metadata": {
            "tags": []
          },
          "execution_count": 28
        },
        {
          "output_type": "stream",
          "text": [
            " FCN=0.363736 FROM MIGRAD    STATUS=CONVERGED      59 CALLS          60 TOTAL\n",
            "                     EDM=1.52811e-08    STRATEGY= 1      ERROR MATRIX ACCURATE \n",
            "  EXT PARAMETER                                   STEP         FIRST   \n",
            "  NO.   NAME      VALUE            ERROR          SIZE      DERIVATIVE \n",
            "   1  Constant     1.04322e+01   3.40532e+00   1.34258e-03  -2.35953e-05\n",
            "   2  Mean         6.08129e+01   4.71735e+00   2.63566e-03   3.59283e-05\n",
            "   3  Sigma        1.97133e+01   4.98285e+00   3.32725e-05  -5.08357e-04\n"
          ],
          "name": "stdout"
        },
        {
          "output_type": "stream",
          "text": [
            "Warning in <TROOT::Append>: Replacing existing TH1: n = 45 (Potential memory leak).\n",
            "Warning in <TCanvas::Constructor>: Deleting canvas with same name: c0\n"
          ],
          "name": "stderr"
        },
        {
          "output_type": "display_data",
          "data": {
            "image/png": "[encoded data removed]",
            "text/plain": [
              "<IPython.core.display.Image object>"
            ]
          },
          "metadata": {
            "tags": []
          }
        }
      ]
    },
    {
      "metadata": {
        "id": "V1iPDIxv9APQ",
        "colab_type": "code",
        "outputId": "374c9607-9501-4376-c622-902d3ef642d4",
        "colab": {
          "base_uri": "https://localhost:8080/",
          "height": 1042
        }
      },
      "cell_type": "code",
      "source": [
        "q = 9\n",
        "Histo = ROOT.TH1F( 'n = 50' , '', 10, 0, 120.0)\n",
        "for i in arreglos[q]:\n",
        "    Histo.Fill(i)\n",
        "c0 = ROOT.TCanvas( 'c0', 'Histograma n = 50', 200, 10, 700, 900 )\n",
        "c0.SetFillColor( 17)\n",
        "Histo.Draw()\n",
        "c0.Update()\n",
        "gROOT.GetListOfCanvases().Draw()\n",
        "\n",
        "f1 = ROOT.TF1(\"f1\", \"gaus\", 0, 120.0);\n",
        "Histo.Fit(\"f1\",\"S\")"
      ],
      "execution_count": 30,
      "outputs": [
        {
          "output_type": "execute_result",
          "data": {
            "text/plain": [
              "<ROOT.TFitResultPtr object at 0x22a5fc0>"
            ]
          },
          "metadata": {
            "tags": []
          },
          "execution_count": 30
        },
        {
          "output_type": "stream",
          "text": [
            " FCN=1.52667 FROM MIGRAD    STATUS=CONVERGED     119 CALLS         120 TOTAL\n",
            "                     EDM=8.38368e-09    STRATEGY= 1      ERROR MATRIX ACCURATE \n",
            "  EXT PARAMETER                                   STEP         FIRST   \n",
            "  NO.   NAME      VALUE            ERROR          SIZE      DERIVATIVE \n",
            "   1  Constant     2.83329e+00   9.53911e-01   5.11341e-04   5.66663e-05\n",
            "   2  Mean         5.90662e+01   5.17741e+01   3.20535e-02  -1.15921e-06\n",
            "   3  Sigma        6.51773e+01   1.48083e+02   5.81333e-04  -8.36938e-05\n"
          ],
          "name": "stdout"
        },
        {
          "output_type": "stream",
          "text": [
            "Warning in <TROOT::Append>: Replacing existing TH1: n = 50 (Potential memory leak).\n",
            "Warning in <TCanvas::Constructor>: Deleting canvas with same name: c0\n"
          ],
          "name": "stderr"
        },
        {
          "output_type": "display_data",
          "data": {
            "image/png": "[encoded data removed]",
            "text/plain": [
              "<IPython.core.display.Image object>"
            ]
          },
          "metadata": {
            "tags": []
          }
        }
      ]
    },
    {
      "metadata": {
        "id": "EONVFa2a9AUT",
        "colab_type": "code",
        "outputId": "0a515508-eb98-4cb0-8107-cbf41f57f8df",
        "colab": {
          "base_uri": "https://localhost:8080/",
          "height": 1042
        }
      },
      "cell_type": "code",
      "source": [
        "q = 10\n",
        "Histo = ROOT.TH1F( 'n = 55' , '', 5, 0, 130.0)\n",
        "for i in arreglos[q]:\n",
        "    Histo.Fill(i)\n",
        "c0 = ROOT.TCanvas( 'c0', 'Histograma n = 55', 200, 10, 700, 900 )\n",
        "c0.SetFillColor( 17)\n",
        "Histo.Draw()\n",
        "c0.Update()\n",
        "gROOT.GetListOfCanvases().Draw()\n",
        "\n",
        "f1 = ROOT.TF1(\"f1\", \"gaus\", 0, 130.0);\n",
        "Histo.Fit(\"f1\",\"S\")\n"
      ],
      "execution_count": 34,
      "outputs": [
        {
          "output_type": "execute_result",
          "data": {
            "text/plain": [
              "<ROOT.TFitResultPtr object at 0x8ae6f40>"
            ]
          },
          "metadata": {
            "tags": []
          },
          "execution_count": 34
        },
        {
          "output_type": "stream",
          "text": [
            " FCN=0.0332445 FROM MIGRAD    STATUS=CONVERGED      52 CALLS          53 TOTAL\n",
            "                     EDM=2.88941e-07    STRATEGY= 1      ERROR MATRIX ACCURATE \n",
            "  EXT PARAMETER                                   STEP         FIRST   \n",
            "  NO.   NAME      VALUE            ERROR          SIZE      DERIVATIVE \n",
            "   1  Constant     9.84327e+00   2.78816e+00   1.09951e-03  -2.59303e-04\n",
            "   2  Mean         7.23028e+01   5.12228e+00   2.47776e-03   2.78543e-06\n",
            "   3  Sigma        2.12999e+01   4.09384e+00   2.53330e-05  -1.42874e-02\n"
          ],
          "name": "stdout"
        },
        {
          "output_type": "stream",
          "text": [
            "Warning in <TROOT::Append>: Replacing existing TH1: n = 55 (Potential memory leak).\n",
            "Warning in <TCanvas::Constructor>: Deleting canvas with same name: c0\n"
          ],
          "name": "stderr"
        },
        {
          "output_type": "display_data",
          "data": {
            "image/png": "[encoded data removed]",
            "text/plain": [
              "<IPython.core.display.Image object>"
            ]
          },
          "metadata": {
            "tags": []
          }
        }
      ]
    },
    {
      "metadata": {
        "id": "VYAICHXA9Dc_",
        "colab_type": "code",
        "outputId": "66217d59-1972-4cff-e223-3ef9eacfe933",
        "colab": {
          "base_uri": "https://localhost:8080/",
          "height": 1042
        }
      },
      "cell_type": "code",
      "source": [
        "q = 11\n",
        "Histo = ROOT.TH1F( 'n = 60' , '', 5, 0, 230)\n",
        "for i in arreglos[q]:\n",
        "    Histo.Fill(i)\n",
        "c0 = ROOT.TCanvas( 'c0', 'Histograma n = 60', 200, 10, 700, 900 )\n",
        "c0.SetFillColor( 17)\n",
        "Histo.Draw()\n",
        "c0.Update()\n",
        "gROOT.GetListOfCanvases().Draw()\n",
        "\n",
        "f1 = ROOT.TF1(\"f1\", \"gaus\", 0, 230);\n",
        "Histo.Fit(\"f1\",\"S\")"
      ],
      "execution_count": 22,
      "outputs": [
        {
          "output_type": "execute_result",
          "data": {
            "text/plain": [
              "<ROOT.TFitResultPtr object at 0x8f8bce0>"
            ]
          },
          "metadata": {
            "tags": []
          },
          "execution_count": 22
        },
        {
          "output_type": "stream",
          "text": [
            " FCN=0.776686 FROM MIGRAD    STATUS=CONVERGED      77 CALLS          78 TOTAL\n",
            "                     EDM=2.54889e-09    STRATEGY= 1      ERROR MATRIX ACCURATE \n",
            "  EXT PARAMETER                                   STEP         FIRST   \n",
            "  NO.   NAME      VALUE            ERROR          SIZE      DERIVATIVE \n",
            "   1  Constant     9.86947e+00   3.54720e+00   1.46562e-03  -1.87581e-05\n",
            "   2  Mean         9.37022e+01   1.76356e+01   6.98153e-03   4.02174e-06\n",
            "   3  Sigma        3.97868e+01   1.90417e+01   4.92566e-05  -6.68931e-05\n"
          ],
          "name": "stdout"
        },
        {
          "output_type": "stream",
          "text": [
            "Warning in <TROOT::Append>: Replacing existing TH1: n = 60 (Potential memory leak).\n",
            "Warning in <TCanvas::Constructor>: Deleting canvas with same name: c0\n"
          ],
          "name": "stderr"
        },
        {
          "output_type": "display_data",
          "data": {
            "image/png": "[encoded data removed]",
            "text/plain": [
              "<IPython.core.display.Image object>"
            ]
          },
          "metadata": {
            "tags": []
          }
        }
      ]
    },
    {
      "metadata": {
        "id": "0kFNW4oP80wZ",
        "colab_type": "code",
        "colab": {}
      },
      "cell_type": "code",
      "source": [
        "N = [5, 10, 15, 20, 25, 30, 35, 40, 45, 50, 55,60]\n",
        "Med = []\n",
        "Max = []\n",
        "\n",
        "for i in range(len(arreglos)):\n",
        "  Med.append( np.mean(arreglos[i]))\n",
        "  Max.append(max(arreglos[i])) \n",
        "  "
      ],
      "execution_count": 0,
      "outputs": []
    },
    {
      "metadata": {
        "id": "EwQm-N4udDR4",
        "colab_type": "text"
      },
      "cell_type": "markdown",
      "source": [
        "## A continuación se muestran los valores centrales para cada uno de los valores del rango del mapa"
      ]
    },
    {
      "metadata": {
        "id": "o_y-v6bpJNxQ",
        "colab_type": "code",
        "colab": {
          "base_uri": "https://localhost:8080/",
          "height": 221
        },
        "outputId": "1c724cd0-7a1f-4bf3-bf06-26e9ff50146c"
      },
      "cell_type": "code",
      "source": [
        "for i in range(len(arreglos)):\n",
        "  \n",
        "  print('El valor central para n = %d es %.3f'%(N[i], np.median(arreglos[i])))"
      ],
      "execution_count": 36,
      "outputs": [
        {
          "output_type": "stream",
          "text": [
            "El valor central para n = 5 es 0.687\n",
            "El valor central para n = 10 es 1.708\n",
            "El valor central para n = 15 es 3.766\n",
            "El valor central para n = 20 es 5.753\n",
            "El valor central para n = 25 es 16.010\n",
            "El valor central para n = 30 es 25.962\n",
            "El valor central para n = 35 es 24.015\n",
            "El valor central para n = 40 es 36.287\n",
            "El valor central para n = 45 es 65.787\n",
            "El valor central para n = 50 es 69.154\n",
            "El valor central para n = 55 es 65.266\n",
            "El valor central para n = 60 es 97.686\n"
          ],
          "name": "stdout"
        }
      ]
    },
    {
      "metadata": {
        "id": "VxVWgLqVdOZa",
        "colab_type": "text"
      },
      "cell_type": "markdown",
      "source": [
        "## Finalmente se muestran los gráficos de valores máximos y de valores medios como función del rango del mapa. Adicional se presentan las curvas de ajuste realizadas con ROOT"
      ]
    },
    {
      "metadata": {
        "id": "RLDl9h5YVQII",
        "colab_type": "code",
        "colab": {
          "base_uri": "https://localhost:8080/",
          "height": 659
        },
        "outputId": "4ce2628d-18a2-4a78-eafc-3fdd7846e3ce"
      },
      "cell_type": "code",
      "source": [
        "c = TCanvas('Grafico de Maximos')\n",
        "g = TGraph(11)\n",
        "g.SetTitle( 'Grafico de Maximos' )\n",
        "\n",
        "for i in range(len(N)):\n",
        "  g.SetPoint(i, N[i], Max[i])\n",
        "\n",
        "func = TF1('func', '[0]+ [1]*x + [2]*x**2 ', 0, 60)\n",
        "fit = g.Fit('func', 'S')\n",
        "\n",
        "c.Draw()\n",
        "g.SetMarkerStyle(9)\n",
        "g.SetMarkerSize(1)\n",
        "a = g.GetXaxis() \n",
        "a.SetTitle(\"n\")\n",
        "b = g.GetYaxis() \n",
        "b.SetTitle(\"Tiempo (s)\")\n",
        "g.Draw(\"AP\")"
      ],
      "execution_count": 37,
      "outputs": [
        {
          "output_type": "stream",
          "text": [
            "\n",
            "****************************************\n",
            "Minimizer is Minuit / Migrad\n",
            "Chi2                      =      6577.04\n",
            "NDf                       =            9\n",
            "Edm                       =  2.79841e-18\n",
            "NCalls                    =           63\n",
            "p0                        =      6.96788   +/-   27.9394     \n",
            "p1                        =    -0.328378   +/-   1.9763      \n",
            "p2                        =    0.0529334   +/-   0.0295984   \n"
          ],
          "name": "stdout"
        },
        {
          "output_type": "display_data",
          "data": {
            "image/png": "[encoded data removed]",
            "text/plain": [
              "<IPython.core.display.Image object>"
            ]
          },
          "metadata": {
            "tags": []
          }
        }
      ]
    },
    {
      "metadata": {
        "id": "1zh58OHrdk4l",
        "colab_type": "text"
      },
      "cell_type": "markdown",
      "source": [
        "Para los datos de máximos, se pensó en un ajuste con un polinomio cuadrático de la forma a*x^2 + b*x + c, se obtuvo que:\n",
        "a = 0.05, b = -0.3, c = 6.96"
      ]
    },
    {
      "metadata": {
        "id": "tDEVS5j09bwj",
        "colab_type": "text"
      },
      "cell_type": "markdown",
      "source": [
        ""
      ]
    },
    {
      "metadata": {
        "id": "ktlUsErpaKiQ",
        "colab_type": "code",
        "colab": {
          "base_uri": "https://localhost:8080/",
          "height": 659
        },
        "outputId": "e35b9fd2-b43c-4057-c3a5-2380311c6491"
      },
      "cell_type": "code",
      "source": [
        "c = TCanvas('Grafico de Valores medios')\n",
        "g = TGraph(11)\n",
        "g.SetTitle( 'Grafico de Valores Medios' )\n",
        "\n",
        "for i in range(len(N)):\n",
        "  g.SetPoint(i, N[i], Med[i])\n",
        "\n",
        "func = TF1('func', '[0]+ [1]*x + [2]*x**2', 0, 60)\n",
        "fit = g.Fit('func', 'S')\n",
        "\n",
        "c.Draw()\n",
        "g.SetMarkerStyle(9)\n",
        "g.SetMarkerSize(1)\n",
        "a = g.GetXaxis() \n",
        "a.SetTitle(\"n\")\n",
        "b = g.GetYaxis() \n",
        "b.SetTitle(\"Tiempo (s)\")\n",
        "g.Draw(\"AP\")"
      ],
      "execution_count": 27,
      "outputs": [
        {
          "output_type": "stream",
          "text": [
            "\n",
            "****************************************\n",
            "Minimizer is Minuit / Migrad\n",
            "Chi2                      =      256.951\n",
            "NDf                       =            9\n",
            "Edm                       =  3.84623e-19\n",
            "NCalls                    =           65\n",
            "p0                        =     0.710037   +/-   5.52238     \n",
            "p1                        =      -0.1743   +/-   0.390628    \n",
            "p2                        =    0.0302375   +/-   0.00585029  \n"
          ],
          "name": "stdout"
        },
        {
          "output_type": "display_data",
          "data": {
            "image/png": "[encoded data removed]",
            "text/plain": [
              "<IPython.core.display.Image object>"
            ]
          },
          "metadata": {
            "tags": []
          }
        }
      ]
    },
    {
      "metadata": {
        "id": "26wWMfeseJCg",
        "colab_type": "text"
      },
      "cell_type": "markdown",
      "source": [
        "Para los datos de máximos, se pensó en un ajuste con un polinomio cuadrático de la forma a*x^2 + b*x + c, se obtuvo que:\n",
        "a = 0.03 , b = -0.17 , c = 0.71"
      ]
    },
    {
      "metadata": {
        "id": "C7NkU__ibLgu",
        "colab_type": "code",
        "colab": {}
      },
      "cell_type": "code",
      "source": [
        ""
      ],
      "execution_count": 0,
      "outputs": []
    }
  ]
}