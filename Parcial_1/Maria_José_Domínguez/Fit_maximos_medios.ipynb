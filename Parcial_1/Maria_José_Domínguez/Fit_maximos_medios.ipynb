{
  "nbformat": 4,
  "nbformat_minor": 0,
  "metadata": {
    "colab": {
      "name": "Fit_maximos_medios.ipynb",
      "version": "0.3.2",
      "provenance": [],
      "collapsed_sections": [],
      "include_colab_link": true
    },
    "kernelspec": {
      "name": "python3",
      "display_name": "Python 3"
    }
  },
  "cells": [
    {
      "cell_type": "markdown",
      "metadata": {
        "id": "view-in-github",
        "colab_type": "text"
      },
      "source": [
        "<a href=\"https://colab.research.google.com/github/MJDM23/CUFICO-2018-2/blob/master/Fit_maximos_medios.ipynb\" target=\"_parent\"><img src=\"https://colab.research.google.com/assets/colab-badge.svg\" alt=\"Open In Colab\"/></a>"
      ]
    },
    {
      "metadata": {
        "id": "olUT5b3i_emL",
        "colab_type": "code",
        "outputId": "8c7e4197-f1e1-45c1-cc5f-37e96f621161",
        "colab": {
          "base_uri": "https://localhost:8080/",
          "height": 306
        }
      },
      "cell_type": "code",
      "source": [
        "!apt-get install git dpkg-dev cmake g++ gcc binutils libx11-dev libxpm-dev libxft-dev libxext-dev tar gfortran subversion"
      ],
      "execution_count": 0,
      "outputs": [
        {
          "output_type": "stream",
          "text": [
            "Reading package lists... Done\n",
            "Building dependency tree       \n",
            "Reading state information... Done\n",
            "cmake is already the newest version (3.10.2-1ubuntu2).\n",
            "libxext-dev is already the newest version (2:1.3.3-1).\n",
            "libxft-dev is already the newest version (2.3.2-1).\n",
            "libxpm-dev is already the newest version (1:3.5.12-1).\n",
            "subversion is already the newest version (1.9.7-4ubuntu1).\n",
            "binutils is already the newest version (2.30-21ubuntu1~18.04).\n",
            "dpkg-dev is already the newest version (1.19.0.5ubuntu2.1).\n",
            "g++ is already the newest version (4:7.3.0-3ubuntu2.1).\n",
            "gcc is already the newest version (4:7.3.0-3ubuntu2.1).\n",
            "gfortran is already the newest version (4:7.3.0-3ubuntu2.1).\n",
            "git is already the newest version (1:2.17.1-1ubuntu0.4).\n",
            "libx11-dev is already the newest version (2:1.6.4-3ubuntu0.1).\n",
            "tar is already the newest version (1.29b-2ubuntu0.1).\n",
            "0 upgraded, 0 newly installed, 0 to remove and 7 not upgraded.\n"
          ],
          "name": "stdout"
        }
      ]
    },
    {
      "metadata": {
        "id": "11LfaiCD_9N-",
        "colab_type": "code",
        "outputId": "7a79fe58-20af-4166-bc1c-01dcb10bda79",
        "colab": {
          "base_uri": "https://localhost:8080/",
          "height": 34
        }
      },
      "cell_type": "code",
      "source": [
        "# Load the Drive helper and mount\n",
        "from google.colab import drive\n",
        "\n",
        "# This will prompt for authorization.\n",
        "drive.mount('/content/drive', force_remount=True)"
      ],
      "execution_count": 0,
      "outputs": [
        {
          "output_type": "stream",
          "text": [
            "Mounted at /content/drive\n"
          ],
          "name": "stdout"
        }
      ]
    },
    {
      "metadata": {
        "id": "-kSKB59rAAFp",
        "colab_type": "code",
        "colab": {}
      },
      "cell_type": "code",
      "source": [
        "!tar -xf /content/drive/Team\\ Drives/PyROOT_in_Google/root_build_google_yikes.tar"
      ],
      "execution_count": 0,
      "outputs": []
    },
    {
      "metadata": {
        "id": "eYsKQONCAK_o",
        "colab_type": "code",
        "colab": {}
      },
      "cell_type": "code",
      "source": [
        "import sys\n",
        "sys.path.append(\"/content/root_build/\")\n",
        "sys.path.append(\"/content/root_build/bin/\")\n",
        "sys.path.append(\"/content/root_build/include/\")\n",
        "sys.path.append(\"/content/root_build/lib/\")"
      ],
      "execution_count": 0,
      "outputs": []
    },
    {
      "metadata": {
        "id": "vuR6alR9Avjs",
        "colab_type": "code",
        "outputId": "beff6ab9-c7b3-41b7-8d4d-aeca629417bf",
        "colab": {
          "base_uri": "https://localhost:8080/",
          "height": 34
        }
      },
      "cell_type": "code",
      "source": [
        "import ROOT"
      ],
      "execution_count": 0,
      "outputs": [
        {
          "output_type": "stream",
          "text": [
            "Welcome to JupyROOT 6.14/04\n"
          ],
          "name": "stdout"
        }
      ]
    },
    {
      "metadata": {
        "id": "LWYjmbK0AxsS",
        "colab_type": "code",
        "colab": {}
      },
      "cell_type": "code",
      "source": [
        "import numpy as np\n",
        "from ROOT import gROOT, TCanvas, TH1F, TStyle, TGraph, kBlue, TF1"
      ],
      "execution_count": 0,
      "outputs": []
    },
    {
      "metadata": {
        "id": "GBqgUeShBdRj",
        "colab_type": "code",
        "colab": {}
      },
      "cell_type": "code",
      "source": [
        "N = 12\n",
        "X1, Y1 = np.loadtxt('drive/My Drive/maximos.txt', unpack = True)\n",
        "X2, Y2 = np.loadtxt('drive/My Drive/medias.txt', unpack = True)"
      ],
      "execution_count": 0,
      "outputs": []
    },
    {
      "metadata": {
        "id": "RdGh3eHCBypg",
        "colab_type": "code",
        "outputId": "7ffd4750-6ab0-4b78-c42f-ca8e274e19dc",
        "colab": {
          "base_uri": "https://localhost:8080/",
          "height": 727
        }
      },
      "cell_type": "code",
      "source": [
        "#para graficar los datos del tiempo máximo:\n",
        "c1 = ROOT.TCanvas()\n",
        "g1 = ROOT.TGraph(N, X1.astype(np.double),Y1.astype(np.double))\n",
        "g1.SetLineColor(kBlue)\n",
        "g1.SetLineWidth(2)\n",
        "g1.SetMarkerColor(kBlue)\n",
        "g1.SetMarkerStyle(21)\n",
        "g1.SetTitle('Tiempos maximos')\n",
        "g1.GetXaxis().SetTitle('n')\n",
        "g1.GetYaxis().SetTitle('Tiempo [s]')\n",
        "c1.Draw()\n",
        "g1.Draw('AP')\n",
        "\n",
        "#para hacer el fit:\n",
        "f1 = TF1('f1', 'pol8', 5, 60)\n",
        "fit = g1.Fit('f1', 'S')\n",
        "\n",
        "c1.Draw()\n",
        "g1.Draw('AP')"
      ],
      "execution_count": 0,
      "outputs": [
        {
          "output_type": "stream",
          "text": [
            "\n",
            "****************************************\n",
            "Minimizer is Linear\n",
            "Chi2                      =   6.8291e-06\n",
            "NDf                       =            3\n",
            "p0                        =    0.0996369   +/-   0.0551272   \n",
            "p1                        =   -0.0397911   +/-   0.0250451   \n",
            "p2                        =     0.006939   +/-   0.00427742  \n",
            "p3                        = -0.000621718   +/-   0.000370851 \n",
            "p4                        =   3.1494e-05   +/-   1.82704e-05 \n",
            "p5                        = -9.35378e-07   +/-   5.32629e-07 \n",
            "p6                        =  1.61218e-08   +/-   9.08698e-09 \n",
            "p7                        = -1.49214e-10   +/-   8.37626e-11 \n",
            "p8                        =  5.73539e-13   +/-   3.21865e-13 \n"
          ],
          "name": "stdout"
        },
        {
          "output_type": "display_data",
          "data": {
            "image/png": "[encoded data removed]",
            "text/plain": [
              "<IPython.core.display.Image object>"
            ]
          },
          "metadata": {
            "tags": []
          }
        }
      ]
    },
    {
      "metadata": {
        "id": "LXYUo3LMGB7C",
        "colab_type": "code",
        "outputId": "1a4a90b1-9262-4c76-d36c-ab5718ed25ed",
        "colab": {
          "base_uri": "https://localhost:8080/",
          "height": 693
        }
      },
      "cell_type": "code",
      "source": [
        "#para graficar los datos del tiempo medio:\n",
        "c2 = ROOT.TCanvas()\n",
        "g2 = ROOT.TGraph(N, X2.astype(np.double),Y2.astype(np.double))\n",
        "g2.SetLineColor(kBlue)\n",
        "g2.SetLineWidth(2)\n",
        "g2.SetMarkerColor(kBlue)\n",
        "g2.SetMarkerStyle(21)\n",
        "g2.SetTitle('Tiempos medios')\n",
        "g2.GetXaxis().SetTitle('n')\n",
        "g2.GetYaxis().SetTitle('Tiempo [s]')\n",
        "c2.Draw()\n",
        "g2.Draw('AP')\n",
        "\n",
        "#para hacer el fit:\n",
        "f2 = TF1('f2', 'pol6', 5, 60)\n",
        "fit = g2.Fit('f2', 'S')\n",
        "\n",
        "c2.Draw()\n",
        "g2.Draw('AP')"
      ],
      "execution_count": 0,
      "outputs": [
        {
          "output_type": "stream",
          "text": [
            "\n",
            "****************************************\n",
            "Minimizer is Linear\n",
            "Chi2                      =  1.07041e-08\n",
            "NDf                       =            5\n",
            "p0                        =   0.00563649   +/-   0.000366143 \n",
            "p1                        = -0.000155619   +/-   0.000122404 \n",
            "p2                        =  1.88783e-05   +/-   1.4057e-05  \n",
            "p3                        = -1.04098e-06   +/-   7.47357e-07 \n",
            "p4                        =  2.87701e-08   +/-   2.00668e-08 \n",
            "p5                        = -3.87115e-10   +/-   2.63959e-10 \n",
            "p6                        =  2.01298e-12   +/-   1.35062e-12 \n"
          ],
          "name": "stdout"
        },
        {
          "output_type": "display_data",
          "data": {
            "image/png": "[encoded data removed]",
            "text/plain": [
              "<IPython.core.display.Image object>"
            ]
          },
          "metadata": {
            "tags": []
          }
        }
      ]
    },
    {
      "metadata": {
        "id": "x5W7jdmyO4kV",
        "colab_type": "code",
        "colab": {}
      },
      "cell_type": "code",
      "source": [
        ""
      ],
      "execution_count": 0,
      "outputs": []
    }
  ]
}
