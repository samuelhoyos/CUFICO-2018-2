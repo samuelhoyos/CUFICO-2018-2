{
  "nbformat": 4,
  "nbformat_minor": 0,
  "metadata": {
    "colab": {
      "name": "Copia de BasicPyROOTExample.ipynb",
      "version": "0.3.2",
      "provenance": [],
      "collapsed_sections": [],
      "include_colab_link": true
    },
    "kernelspec": {
      "name": "python3",
      "display_name": "Python 3"
    }
  },
  "cells": [
    {
      "cell_type": "markdown",
      "metadata": {
        "id": "view-in-github",
        "colab_type": "text"
      },
      "source": [
        "[View in Colaboratory](https://colab.research.google.com/github/DSierraB/CUFICO-2018-2/blob/master/BasicPyROOTExample.ipynb)"
      ]
    },
    {
      "metadata": {
        "id": "l2Kx9iqQ4ToX",
        "colab_type": "text"
      },
      "cell_type": "markdown",
      "source": [
        "# With this notebook we will:\n",
        "## 1. Install packages needed for root\n",
        "## 2. Download a binary root that compiled in google drive \"colaboratory\" environement\n",
        "## 3. Modify the PATH in order to tell python where to look for pyROOT\n",
        "## 4. Finally, test ROOT installation with a simple example\n",
        "\n",
        "##### Author: Jose Ruiz\n",
        "##### Maintainer: Jose Ruiz\n",
        "##### Developed at: Universidad de Antioquia\n"
      ]
    },
    {
      "metadata": {
        "id": "C1gPEaTg6fLl",
        "colab_type": "text"
      },
      "cell_type": "markdown",
      "source": [
        "### 1. Install packages needed for root"
      ]
    },
    {
      "metadata": {
        "id": "gYEA4UKNplb6",
        "colab_type": "code",
        "colab": {
          "base_uri": "https://localhost:8080/",
          "height": 329
        },
        "outputId": "f8de10eb-d580-4b40-94ab-dffb82bce91d"
      },
      "cell_type": "code",
      "source": [
        "!apt-get install git dpkg-dev cmake g++ gcc binutils libx11-dev libxpm-dev libxft-dev libxext-dev tar gfortran subversion"
      ],
      "execution_count": 1,
      "outputs": [
        {
          "output_type": "stream",
          "text": [
            "Reading package lists... Done\n",
            "Building dependency tree       \n",
            "Reading state information... Done\n",
            "binutils is already the newest version (2.29.1-4ubuntu1).\n",
            "cmake is already the newest version (3.9.1-1).\n",
            "dpkg-dev is already the newest version (1.18.24ubuntu1).\n",
            "g++ is already the newest version (4:7.2.0-1ubuntu1).\n",
            "gcc is already the newest version (4:7.2.0-1ubuntu1).\n",
            "gfortran is already the newest version (4:7.2.0-1ubuntu1).\n",
            "libx11-dev is already the newest version (2:1.6.4-3).\n",
            "libxext-dev is already the newest version (2:1.3.3-1).\n",
            "libxft-dev is already the newest version (2.3.2-1).\n",
            "libxpm-dev is already the newest version (1:3.5.12-1).\n",
            "subversion is already the newest version (1.9.7-2ubuntu1).\n",
            "tar is already the newest version (1.29b-2).\n",
            "git is already the newest version (1:2.14.1-1ubuntu4.1).\n",
            "0 upgraded, 0 newly installed, 0 to remove and 0 not upgraded.\n"
          ],
          "name": "stdout"
        }
      ]
    },
    {
      "metadata": {
        "id": "3i5bTy4x601V",
        "colab_type": "text"
      },
      "cell_type": "markdown",
      "source": [
        "### 2. Mount the drive to get the root binary and untar it "
      ]
    },
    {
      "metadata": {
        "id": "gMhjqJ9noRcX",
        "colab_type": "code",
        "colab": {
          "base_uri": "https://localhost:8080/",
          "height": 129
        },
        "outputId": "9d14913e-808a-41bd-a71f-a28c434a5edc"
      },
      "cell_type": "code",
      "source": [
        "# Load the Drive helper and mount\n",
        "from google.colab import drive\n",
        "\n",
        "# This will prompt for authorization.\n",
        "drive.mount('/content/drive')"
      ],
      "execution_count": 2,
      "outputs": [
        {
          "output_type": "stream",
          "text": [
            "Go to this URL in a browser: https://accounts.google.com/o/oauth2/auth?client_id=947318989803-6bn6qk8qdgf4n4g3pfee6491hc0brc4i.apps.googleusercontent.com&redirect_uri=urn%3Aietf%3Awg%3Aoauth%3A2.0%3Aoob&scope=email%20https%3A%2F%2Fwww.googleapis.com%2Fauth%2Fdocs.test%20https%3A%2F%2Fwww.googleapis.com%2Fauth%2Fdrive%20https%3A%2F%2Fwww.googleapis.com%2Fauth%2Fdrive.photos.readonly%20https%3A%2F%2Fwww.googleapis.com%2Fauth%2Fpeopleapi.readonly&response_type=code\n",
            "\n",
            "Enter your authorization code:\n",
            "··········\n",
            "Mounted at /content/drive\n"
          ],
          "name": "stdout"
        }
      ]
    },
    {
      "metadata": {
        "id": "dt2PEUjQo0RY",
        "colab_type": "code",
        "colab": {
          "base_uri": "https://localhost:8080/",
          "height": 35
        },
        "outputId": "c64f2760-8bd0-494c-a738-44c7dce7adb2"
      },
      "cell_type": "code",
      "source": [
        "# After executing the cell above, Drive\n",
        "# files will be present in \"/content/drive/My Drive\".\n",
        "!ls \"/content/drive/Team Drives/CUFICO1\""
      ],
      "execution_count": 0,
      "outputs": [
        {
          "output_type": "stream",
          "text": [
            "BasicPyROOTExample.ipynb  root_build_google_yikes.tar\n"
          ],
          "name": "stdout"
        }
      ]
    },
    {
      "metadata": {
        "id": "tRQGlQ4Hqau9",
        "colab_type": "code",
        "colab": {}
      },
      "cell_type": "code",
      "source": [
        "!tar -xf /content/drive/Team\\ Drives/CUFICO1/root_build_google_yikes.tar"
      ],
      "execution_count": 0,
      "outputs": []
    },
    {
      "metadata": {
        "id": "DfLQ4DrprjLU",
        "colab_type": "code",
        "colab": {
          "base_uri": "https://localhost:8080/",
          "height": 90
        },
        "outputId": "04c71171-bd18-402a-93be-bd4dba06547f"
      },
      "cell_type": "code",
      "source": [
        "!ls -ltrh"
      ],
      "execution_count": 4,
      "outputs": [
        {
          "output_type": "stream",
          "text": [
            "total 12K\n",
            "drwxr-xr-x 44 root root 4.0K Sep 20 23:35 root_build\n",
            "drwxr-xr-x  2 root root 4.0K Sep 27 01:09 sample_data\n",
            "drwx------  3 root root 4.0K Sep 27 18:39 drive\n"
          ],
          "name": "stdout"
        }
      ]
    },
    {
      "metadata": {
        "id": "1nHFk9y68VVP",
        "colab_type": "text"
      },
      "cell_type": "markdown",
      "source": [
        "\n",
        "### 3. Modify the PATH in order to tell python where to look for pyROOT\n"
      ]
    },
    {
      "metadata": {
        "id": "N3ndoY6iu6_J",
        "colab_type": "code",
        "colab": {}
      },
      "cell_type": "code",
      "source": [
        "import sys\n",
        "sys.path.append(\"/content/root_build/\")\n",
        "sys.path.append(\"/content/root_build/bin/\")\n",
        "sys.path.append(\"/content/root_build/include/\")\n",
        "sys.path.append(\"/content/root_build/lib/\")"
      ],
      "execution_count": 0,
      "outputs": []
    },
    {
      "metadata": {
        "id": "lTFxGdo6v-vn",
        "colab_type": "code",
        "colab": {
          "base_uri": "https://localhost:8080/",
          "height": 35
        },
        "outputId": "3bf87c29-0a1f-4ff0-bb48-2c74ebed2c97"
      },
      "cell_type": "code",
      "source": [
        "import ROOT"
      ],
      "execution_count": 6,
      "outputs": [
        {
          "output_type": "stream",
          "text": [
            "Welcome to JupyROOT 6.14/04\n"
          ],
          "name": "stdout"
        }
      ]
    },
    {
      "metadata": {
        "id": "T33_3Ad08kEA",
        "colab_type": "text"
      },
      "cell_type": "markdown",
      "source": [
        "# We made it!!! :)"
      ]
    },
    {
      "metadata": {
        "id": "5W-HPKhZk_Nv",
        "colab_type": "code",
        "colab": {
          "base_uri": "https://localhost:8080/",
          "height": 889
        },
        "outputId": "32a2c179-0757-4be9-c8b0-a99021488483"
      },
      "cell_type": "code",
      "source": [
        "from os import path\n",
        "from ROOT import TCanvas, TPad, TFormula, TF1, TPaveLabel, TH1F, TFile, TPaveText\n",
        "from ROOT import gROOT, gBenchmark\n",
        "\n",
        "\n",
        "c1 = TCanvas( 'c1', 'The FillRandom example', 200, 10, 700, 900 )\n",
        "c1.SetFillColor( 18 )\n",
        "\n",
        "pad1 = TPad( 'pad1', 'The pad with the function',  0.05, 0.50, 0.95, 0.95, 21 )\n",
        "pad2 = TPad( 'pad2', 'The pad with the histogram', 0.05, 0.05, 0.95, 0.45, 21 )\n",
        "pad1.Draw()\n",
        "pad2.Draw()\n",
        "pad1.cd()\n",
        "\n",
        "form1 = TFormula( 'form1', 'abs(sin(x)/x)' )\n",
        "sqroot = TF1( 'sqroot', 'x*gaus(0) + [3]*form1', 0, 10 )\n",
        "sqroot.SetParameters( 10, 4, 1, 20 )\n",
        "pad1.SetGridx()\n",
        "pad1.SetGridy()\n",
        "pad1.GetFrame().SetFillColor( 42 )\n",
        "pad1.GetFrame().SetBorderMode( -1 )\n",
        "pad1.GetFrame().SetBorderSize( 5 )\n",
        "sqroot.SetLineColor( 4 )\n",
        "sqroot.SetLineWidth( 6 )\n",
        "sqroot.Draw()\n",
        "lfunction = TPaveLabel( 5, 39, 9.8, 46, 'The sqroot function' )\n",
        "lfunction.SetFillColor( 41 )\n",
        "lfunction.Draw()\n",
        "c1.Update()\n",
        "\n",
        "pad2.cd();\n",
        "pad2.GetFrame().SetFillColor( 42 )\n",
        "pad2.GetFrame().SetBorderMode( -1 )\n",
        "pad2.GetFrame().SetBorderSize( 5 )\n",
        "h1f = TH1F( 'h1f', 'Test random numbers', 200, 0, 10 )\n",
        "h1f.SetFillColor( 45 )\n",
        "h1f.FillRandom( 'sqroot', 10000 )\n",
        "h1f.Draw()\n",
        "c1.Update()\n",
        "\n",
        "myfile = TFile( 'py-fillrandom.root', 'RECREATE' )\n",
        "form1.Write()\n",
        "sqroot.Write()\n",
        "h1f.Write()\n",
        "myfile.Close()\n",
        "\n",
        "from ROOT import gROOT \n",
        "gROOT.GetListOfCanvases().Draw()"
      ],
      "execution_count": 7,
      "outputs": [
        {
          "output_type": "display_data",
          "data": {
            "image/png": "[encoded data removed]",
            "text/plain": [
              "<IPython.core.display.Image object>"
            ]
          },
          "metadata": {
            "tags": []
          }
        }
      ]
    },
    {
      "metadata": {
        "id": "vq781BMHvn8k",
        "colab_type": "code",
        "colab": {
          "base_uri": "https://localhost:8080/",
          "height": 849
        },
        "outputId": "233e1ea3-fc3a-4471-91cb-b575df609a3a"
      },
      "cell_type": "code",
      "source": [
        "c1 = TCanvas( 'c1', 'The Fit Canvas', 200, 10, 700, 500 )\n",
        "c1.SetGridx()\n",
        "c1.SetGridy()\n",
        "c1.GetFrame().SetFillColor( 21 )\n",
        "c1.GetFrame().SetBorderMode(-1 )\n",
        "c1.GetFrame().SetBorderSize( 5 )\n",
        "\n",
        "fill = TFile( 'py-fillrandom.root' )\n",
        "\n",
        "fill.ls()\n",
        "\n",
        "sqroot = gROOT.FindObject( 'sqroot' )\n",
        "sqroot.Print()\n",
        "\n",
        "h1f = gROOT.FindObject( 'h1f' )\n",
        "h1f.SetFillColor( 45 )\n",
        "h1f.Fit( 'sqroot' )\n",
        "\n",
        "c1.Update()\n",
        "\n",
        "gROOT.GetListOfCanvases().Draw()"
      ],
      "execution_count": 0,
      "outputs": [
        {
          "output_type": "stream",
          "text": [
            "TFile**\t\tpy-fillrandom.root\t\n",
            " TFile*\t\tpy-fillrandom.root\t\n",
            "  KEY: TFormula\tform1;1\tabs(sin(x)/x)\n",
            "  KEY: TF1\tsqroot;1\tx*gaus(0) + [3]*form1\n",
            "  KEY: TH1F\th1f;1\tTest random numbers\n",
            "Formula based function:     sqroot \n",
            "               sqroot : x*gaus(0) + [3]*form1 Ndim= 1, Npar= 4, Number= 0 \n",
            " Formula expression: \n",
            "\tx*[p0]*exp(-0.5*((x-[p1])/[p2])*((x-[p1])/[p2]))+[p3]*(abs(sin(x)/x)) \n",
            "Contained histogram\n",
            "TH1.Print Name  = Func, Entries= 300, Total sum= 1514.36\n",
            " FCN=198.935 FROM MIGRAD    STATUS=CONVERGED     148 CALLS         149 TOTAL\n",
            "                     EDM=2.98567e-07    STRATEGY= 1      ERROR MATRIX ACCURATE \n",
            "  EXT PARAMETER                                   STEP         FIRST   \n",
            "  NO.   NAME      VALUE            ERROR          SIZE      DERIVATIVE \n",
            "   1  p0           3.31658e+01   5.45703e-01   3.00376e-03  -1.11540e-03\n",
            "   2  p1           4.00667e+00   1.65304e-02   9.48491e-05  -3.06425e-02\n",
            "   3  p2           9.84663e-01   1.28238e-02   6.05976e-05  -3.04244e-02\n",
            "   4  p3           6.34464e+01   1.33233e+00   8.77483e-03  -3.96109e-04\n"
          ],
          "name": "stdout"
        },
        {
          "output_type": "stream",
          "text": [
            "Warning in <TCanvas::Constructor>: Deleting canvas with same name: c1\n"
          ],
          "name": "stderr"
        },
        {
          "output_type": "display_data",
          "data": {
            "image/png": "[encoded data removed]",
            "text/plain": [
              "<IPython.core.display.Image object>"
            ]
          },
          "metadata": {
            "tags": []
          }
        }
      ]
    },
    {
      "metadata": {
        "id": "qmKR6xLioJOa",
        "colab_type": "code",
        "colab": {}
      },
      "cell_type": "code",
      "source": [
        ""
      ],
      "execution_count": 0,
      "outputs": []
    }
  ]
}